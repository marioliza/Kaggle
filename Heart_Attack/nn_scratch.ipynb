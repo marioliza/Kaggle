{
 "cells": [
  {
   "cell_type": "code",
   "execution_count": 290,
   "id": "initial_id",
   "metadata": {
    "collapsed": true,
    "ExecuteTime": {
     "end_time": "2024-11-10T01:55:41.435569700Z",
     "start_time": "2024-11-10T01:55:41.123701500Z"
    }
   },
   "outputs": [],
   "source": [
    "import numpy as np\n",
    "import pandas as pd\n",
    "import seaborn as sns\n",
    "from sklearn.model_selection import train_test_split\n",
    "from sklearn.preprocessing import StandardScaler\n",
    "from sklearn.metrics import accuracy_score,confusion_matrix"
   ]
  },
  {
   "cell_type": "code",
   "execution_count": 291,
   "outputs": [
    {
     "data": {
      "text/plain": "   age  sex  cp  trtbps  chol  fbs  restecg  thalachh  exng  oldpeak  slp  \\\n0   63    1   3     145   233    1        0       150     0      2.3    0   \n1   37    1   2     130   250    0        1       187     0      3.5    0   \n2   41    0   1     130   204    0        0       172     0      1.4    2   \n3   56    1   1     120   236    0        1       178     0      0.8    2   \n4   57    0   0     120   354    0        1       163     1      0.6    2   \n\n   caa  thall  output  \n0    0      1       1  \n1    0      2       1  \n2    0      2       1  \n3    0      2       1  \n4    0      2       1  ",
      "text/html": "<div>\n<style scoped>\n    .dataframe tbody tr th:only-of-type {\n        vertical-align: middle;\n    }\n\n    .dataframe tbody tr th {\n        vertical-align: top;\n    }\n\n    .dataframe thead th {\n        text-align: right;\n    }\n</style>\n<table border=\"1\" class=\"dataframe\">\n  <thead>\n    <tr style=\"text-align: right;\">\n      <th></th>\n      <th>age</th>\n      <th>sex</th>\n      <th>cp</th>\n      <th>trtbps</th>\n      <th>chol</th>\n      <th>fbs</th>\n      <th>restecg</th>\n      <th>thalachh</th>\n      <th>exng</th>\n      <th>oldpeak</th>\n      <th>slp</th>\n      <th>caa</th>\n      <th>thall</th>\n      <th>output</th>\n    </tr>\n  </thead>\n  <tbody>\n    <tr>\n      <th>0</th>\n      <td>63</td>\n      <td>1</td>\n      <td>3</td>\n      <td>145</td>\n      <td>233</td>\n      <td>1</td>\n      <td>0</td>\n      <td>150</td>\n      <td>0</td>\n      <td>2.3</td>\n      <td>0</td>\n      <td>0</td>\n      <td>1</td>\n      <td>1</td>\n    </tr>\n    <tr>\n      <th>1</th>\n      <td>37</td>\n      <td>1</td>\n      <td>2</td>\n      <td>130</td>\n      <td>250</td>\n      <td>0</td>\n      <td>1</td>\n      <td>187</td>\n      <td>0</td>\n      <td>3.5</td>\n      <td>0</td>\n      <td>0</td>\n      <td>2</td>\n      <td>1</td>\n    </tr>\n    <tr>\n      <th>2</th>\n      <td>41</td>\n      <td>0</td>\n      <td>1</td>\n      <td>130</td>\n      <td>204</td>\n      <td>0</td>\n      <td>0</td>\n      <td>172</td>\n      <td>0</td>\n      <td>1.4</td>\n      <td>2</td>\n      <td>0</td>\n      <td>2</td>\n      <td>1</td>\n    </tr>\n    <tr>\n      <th>3</th>\n      <td>56</td>\n      <td>1</td>\n      <td>1</td>\n      <td>120</td>\n      <td>236</td>\n      <td>0</td>\n      <td>1</td>\n      <td>178</td>\n      <td>0</td>\n      <td>0.8</td>\n      <td>2</td>\n      <td>0</td>\n      <td>2</td>\n      <td>1</td>\n    </tr>\n    <tr>\n      <th>4</th>\n      <td>57</td>\n      <td>0</td>\n      <td>0</td>\n      <td>120</td>\n      <td>354</td>\n      <td>0</td>\n      <td>1</td>\n      <td>163</td>\n      <td>1</td>\n      <td>0.6</td>\n      <td>2</td>\n      <td>0</td>\n      <td>2</td>\n      <td>1</td>\n    </tr>\n  </tbody>\n</table>\n</div>"
     },
     "execution_count": 291,
     "metadata": {},
     "output_type": "execute_result"
    }
   ],
   "source": [
    "df = pd.read_csv('heart.csv')\n",
    "df.head()"
   ],
   "metadata": {
    "collapsed": false,
    "ExecuteTime": {
     "end_time": "2024-11-10T01:55:41.439570300Z",
     "start_time": "2024-11-10T01:55:41.128368500Z"
    }
   },
   "id": "6b4701df9cf9fdf9"
  },
  {
   "cell_type": "code",
   "execution_count": 292,
   "outputs": [
    {
     "name": "stdout",
     "output_type": "stream",
     "text": [
      "X: (303, 13) Y:(303,)\n"
     ]
    }
   ],
   "source": [
    "X = np.array(df.loc[:,df.columns != 'output'])\n",
    "Y = np.array(df['output'])\n",
    "\n",
    "print(f'X: {X.shape} Y:{Y.shape}')\n"
   ],
   "metadata": {
    "collapsed": false,
    "ExecuteTime": {
     "end_time": "2024-11-10T01:55:41.439570300Z",
     "start_time": "2024-11-10T01:55:41.138699100Z"
    }
   },
   "id": "74c5fe257dee3890"
  },
  {
   "cell_type": "code",
   "execution_count": 293,
   "outputs": [],
   "source": [
    "X_train,X_test,Y_train,Y_test = train_test_split(X,Y,test_size=0.2, random_state=123)"
   ],
   "metadata": {
    "collapsed": false,
    "ExecuteTime": {
     "end_time": "2024-11-10T01:55:41.761636200Z",
     "start_time": "2024-11-10T01:55:41.141209600Z"
    }
   },
   "id": "aef637bfb652f7b9"
  },
  {
   "cell_type": "code",
   "execution_count": 294,
   "outputs": [],
   "source": [
    "scaler = StandardScaler()\n",
    "X_train_scale = scaler.fit_transform(X_train)\n",
    "X_test_scale = scaler.transform(X_test)"
   ],
   "metadata": {
    "collapsed": false,
    "ExecuteTime": {
     "end_time": "2024-11-10T01:55:41.781643100Z",
     "start_time": "2024-11-10T01:55:41.144990200Z"
    }
   },
   "id": "9d3c63eae64580b6"
  },
  {
   "cell_type": "code",
   "execution_count": 295,
   "outputs": [
    {
     "data": {
      "text/plain": "array([[-7.17637765e-01, -1.52153491e+00,  9.58942449e-01,\n        -7.27189932e-02,  4.92344236e-01, -4.18039809e-01,\n         8.92534945e-01, -4.97604972e-01, -6.63683803e-01,\n        -7.07613840e-01,  9.26724929e-01, -7.26717892e-01,\n        -5.26408702e-01],\n       [ 3.85718900e-01, -1.52153491e+00, -9.66900478e-01,\n         2.33796544e+00, -4.24596699e-01,  2.39211668e+00,\n        -1.01891157e+00, -1.93622706e-01,  1.50674161e+00,\n         1.69773801e+00, -7.34515314e-01,  1.29472728e+00,\n        -2.20260483e+00],\n       [ 1.65047567e-01,  6.57231057e-01, -9.66900478e-01,\n        -7.27189932e-02,  6.39054785e-01,  2.39211668e+00,\n        -1.01891157e+00, -2.06094234e+00,  1.50674161e+00,\n         5.87575619e-01, -2.39575556e+00, -7.26717892e-01,\n         1.14978743e+00],\n       [-5.56237658e-02,  6.57231057e-01, -9.66900478e-01,\n        -5.54855879e-01,  6.94071241e-01, -4.18039809e-01,\n        -1.01891157e+00, -1.49640384e+00,  1.50674161e+00,\n         2.06779214e+00, -7.34515314e-01,  1.29472728e+00,\n        -5.26408702e-01],\n       [-1.04864476e+00, -1.52153491e+00, -3.97901431e-03,\n        -1.15752699e+00, -1.61661991e+00, -4.18039809e-01,\n         8.92534945e-01, -5.41031010e-01, -6.63683803e-01,\n        -8.92640905e-01, -7.34515314e-01, -7.26717892e-01,\n        -5.26408702e-01],\n       [ 6.06390234e-01,  6.57231057e-01, -9.66900478e-01,\n        -3.74054547e-01,  1.80584318e-01, -4.18039809e-01,\n        -1.01891157e+00, -4.10752896e-01,  1.50674161e+00,\n         1.69773801e+00, -7.34515314e-01,  2.84004693e-01,\n         1.14978743e+00],\n       [-1.04864476e+00,  6.57231057e-01, -3.97901431e-03,\n        -1.93253215e-01,  1.09752525e+00, -4.18039809e-01,\n        -1.01891157e+00,  8.48602204e-01, -6.63683803e-01,\n        -8.92640905e-01,  9.26724929e-01, -7.26717892e-01,\n        -5.26408702e-01],\n       [ 4.96054567e-01,  6.57231057e-01, -9.66900478e-01,\n         2.28616561e-01, -2.59547331e-01, -4.18039809e-01,\n         8.92534945e-01,  4.57767863e-01, -6.63683803e-01,\n        -4.30073241e-01, -7.34515314e-01, -7.26717892e-01,\n         1.14978743e+00],\n       [ 9.37397233e-01, -1.52153491e+00,  9.58942449e-01,\n         2.28616561e-01,  7.05514058e-02, -4.18039809e-01,\n        -1.01891157e+00,  9.35454280e-01, -6.63683803e-01,\n        -8.92640905e-01,  9.26724929e-01, -7.26717892e-01,\n        -5.26408702e-01],\n       [-9.38309098e-01,  6.57231057e-01,  9.58942449e-01,\n         1.13262322e+00, -3.14563787e-01, -4.18039809e-01,\n         8.92534945e-01, -1.50196668e-01, -6.63683803e-01,\n         2.43784627e+00, -7.34515314e-01, -7.26717892e-01,\n        -5.26408702e-01],\n       [ 3.85718900e-01,  6.57231057e-01, -9.66900478e-01,\n         1.13262322e+00,  4.00650142e-01, -4.18039809e-01,\n        -1.01891157e+00, -1.71353403e+00,  1.50674161e+00,\n        -1.52532643e-01,  9.26724929e-01, -7.26717892e-01,\n         1.14978743e+00],\n       [ 1.15806857e+00,  6.57231057e-01, -9.66900478e-01,\n        -6.75390101e-01, -1.30486000e+00, -4.18039809e-01,\n         8.92534945e-01, -4.54178934e-01, -6.63683803e-01,\n        -5.22586774e-01,  9.26724929e-01, -7.26717892e-01,\n         1.14978743e+00],\n       [-3.86630766e-01,  6.57231057e-01, -9.66900478e-01,\n         5.29952115e-01,  9.14137066e-01, -4.18039809e-01,\n         8.92534945e-01, -1.23584762e+00,  1.50674161e+00,\n         2.99292747e+00, -7.34515314e-01,  2.30544986e+00,\n         1.14978743e+00],\n       [ 3.85718900e-01,  6.57231057e-01, -9.66900478e-01,\n        -1.93253215e-01,  1.98923137e-01, -4.18039809e-01,\n        -1.01891157e+00, -8.88439314e-01,  1.50674161e+00,\n         1.88276508e+00, -7.34515314e-01,  1.29472728e+00,\n         1.14978743e+00],\n       [-7.17637765e-01,  6.57231057e-01, -9.66900478e-01,\n        -4.34321658e-01,  4.74005417e-01, -4.18039809e-01,\n        -1.01891157e+00,  6.74898053e-01, -6.63683803e-01,\n        -4.30073241e-01, -7.34515314e-01, -7.26717892e-01,\n         1.14978743e+00],\n       [ 8.27061567e-01, -1.52153491e+00, -9.66900478e-01,\n         1.73529433e+00, -1.54326464e+00, -4.18039809e-01,\n        -1.01891157e+00, -2.37048744e-01, -6.63683803e-01,\n         4.84319813e+00, -2.39575556e+00,  2.30544986e+00,\n         1.14978743e+00],\n       [ 1.04773290e+00, -1.52153491e+00, -9.66900478e-01,\n        -7.27189932e-02,  1.00583116e+00, -4.18039809e-01,\n         8.92534945e-01, -1.23584762e+00, -6.63683803e-01,\n         9.57629750e-01, -7.34515314e-01,  1.29472728e+00,\n        -5.26408702e-01],\n       [-2.76295099e-01,  6.57231057e-01, -9.66900478e-01,\n        -1.93253215e-01, -8.09711892e-01,  2.39211668e+00,\n         8.92534945e-01,  2.40637673e-01,  1.50674161e+00,\n         3.24944227e-02, -7.34515314e-01, -7.26717892e-01,\n        -3.87880096e+00],\n       [ 1.15806857e+00,  6.57231057e-01, -9.66900478e-01,\n        -1.27806121e+00, -2.80386897e-03, -4.18039809e-01,\n        -1.01891157e+00,  3.27489749e-01, -6.63683803e-01,\n        -3.37559708e-01,  9.26724929e-01,  1.29472728e+00,\n        -2.20260483e+00],\n       [ 3.85718900e-01, -1.52153491e+00, -9.66900478e-01,\n        -1.88073232e+00, -2.80386897e-03, -4.18039809e-01,\n        -1.01891157e+00, -1.23584762e+00, -6.63683803e-01,\n         3.24944227e-02, -7.34515314e-01, -7.26717892e-01,\n        -5.26408702e-01],\n       [ 1.65047567e-01,  6.57231057e-01, -3.97901431e-03,\n        -7.27189932e-02, -4.97951974e-01, -4.18039809e-01,\n        -1.01891157e+00,  5.44619939e-01, -6.63683803e-01,\n        -8.92640905e-01,  9.26724929e-01, -7.26717892e-01,\n         1.14978743e+00],\n       [ 1.26840423e+00,  6.57231057e-01, -3.97901431e-03,\n         1.73529433e+00, -3.94815064e-02, -4.18039809e-01,\n         8.92534945e-01, -1.32269969e+00,  1.50674161e+00,\n        -8.92640905e-01, -7.34515314e-01,  2.30544986e+00,\n        -2.20260483e+00],\n       [-1.93133010e+00, -1.52153491e+00,  9.58942449e-01,\n        -6.75390101e-01, -6.07984886e-01, -4.18039809e-01,\n         8.92534945e-01,  8.48602204e-01, -6.63683803e-01,\n        -8.92640905e-01,  9.26724929e-01, -7.26717892e-01,\n        -5.26408702e-01],\n       [ 8.27061567e-01,  6.57231057e-01,  9.58942449e-01,\n        -7.27189932e-02, -3.14563787e-01, -4.18039809e-01,\n         8.92534945e-01, -1.93622706e-01, -6.63683803e-01,\n         7.72602685e-01, -7.34515314e-01,  2.30544986e+00,\n         1.14978743e+00],\n       [ 1.48907557e+00,  6.57231057e-01,  9.58942449e-01,\n         2.94063655e+00,  4.74005417e-01,  2.39211668e+00,\n        -1.01891157e+00, -1.99185546e-02,  1.50674161e+00,\n         5.87575619e-01, -7.34515314e-01, -7.26717892e-01,\n         1.14978743e+00],\n       [ 4.96054567e-01, -1.52153491e+00, -9.66900478e-01,\n         2.57903388e+00,  1.55349497e-02, -4.18039809e-01,\n         8.92534945e-01, -3.23900820e-01,  1.50674161e+00,\n        -8.92640905e-01, -7.34515314e-01, -7.26717892e-01,\n        -5.26408702e-01],\n       [ 8.27061567e-01, -1.52153491e+00, -9.66900478e-01,\n         5.29952115e-01,  3.63972505e-01, -4.18039809e-01,\n        -1.01891157e+00,  4.14341825e-01, -6.63683803e-01,\n         2.43784627e+00, -2.39575556e+00,  1.29472728e+00,\n        -5.26408702e-01],\n       [ 9.37397233e-01, -1.52153491e+00, -9.66900478e-01,\n        -4.34321658e-01, -9.38083622e-01, -4.18039809e-01,\n         8.92534945e-01, -6.27883086e-01,  1.50674161e+00,\n        -8.92640905e-01, -7.34515314e-01, -7.26717892e-01,\n        -5.26408702e-01],\n       [ 1.65047567e-01, -1.52153491e+00, -9.66900478e-01,\n         4.14597876e+00,  7.30748879e-01,  2.39211668e+00,\n        -1.01891157e+00, -7.58161200e-01,  1.50674161e+00,\n         2.80790041e+00, -2.39575556e+00,  1.29472728e+00,\n         1.14978743e+00],\n       [ 1.26840423e+00,  6.57231057e-01, -9.66900478e-01,\n         1.73529433e+00, -3.69580243e-01, -4.18039809e-01,\n        -1.01891157e+00, -5.41031010e-01, -6.63683803e-01,\n         1.23517035e+00,  9.26724929e-01, -7.26717892e-01,\n        -2.20260483e+00],\n       [ 1.37873990e+00,  6.57231057e-01, -9.66900478e-01,\n         1.73529433e+00,  6.94071241e-01, -4.18039809e-01,\n        -1.01891157e+00, -1.84381215e+00,  1.50674161e+00,\n         4.95062087e-01, -7.34515314e-01,  2.30544986e+00,\n        -5.26408702e-01],\n       [-1.04864476e+00, -1.52153491e+00, -9.66900478e-01,\n         4.09417893e-01, -2.22869693e-01, -4.18039809e-01,\n        -1.01891157e+00,  6.69335213e-02,  1.50674161e+00,\n        -7.07613840e-01, -7.34515314e-01, -7.26717892e-01,\n        -5.26408702e-01],\n       [ 3.85718900e-01, -1.52153491e+00, -9.66900478e-01,\n        -7.27189932e-02, -9.38083622e-01, -4.18039809e-01,\n         8.92534945e-01, -8.45013276e-01, -6.63683803e-01,\n        -3.37559708e-01, -7.34515314e-01, -7.26717892e-01,\n        -5.26408702e-01],\n       [-1.26931610e+00,  6.57231057e-01, -9.66900478e-01,\n         4.78152284e-02, -2.11426877e-02,  2.39211668e+00,\n        -1.01891157e+00, -3.23900820e-01,  1.50674161e+00,\n        -8.00127372e-01, -7.34515314e-01,  3.31617245e+00,\n         1.14978743e+00],\n       [-7.17637765e-01,  6.57231057e-01, -3.97901431e-03,\n        -1.27806121e+00, -3.51241424e-01, -4.18039809e-01,\n         8.92534945e-01,  7.61750128e-01, -6.63683803e-01,\n         3.24944227e-02, -2.39575556e+00, -7.26717892e-01,\n         1.14978743e+00],\n       [-1.15898043e+00, -1.52153491e+00,  9.58942449e-01,\n        -1.39859543e+00, -1.96505747e+00, -4.18039809e-01,\n         8.92534945e-01,  1.06573239e+00, -6.63683803e-01,\n        -3.37559708e-01, -7.34515314e-01, -7.26717892e-01,\n        -5.26408702e-01],\n       [-7.17637765e-01,  6.57231057e-01, -3.97901431e-03,\n        -7.27189932e-02, -5.78203251e-02, -4.18039809e-01,\n        -1.01891157e+00,  1.28286258e+00, -6.63683803e-01,\n        -7.07613840e-01, -7.34515314e-01, -7.26717892e-01,\n        -5.26408702e-01],\n       [-1.65959432e-01,  6.57231057e-01,  9.58942449e-01,\n        -7.27189932e-02, -9.38083622e-01,  2.39211668e+00,\n        -1.01891157e+00,  6.69335213e-02, -6.63683803e-01,\n         2.17521488e-01, -2.39575556e+00, -7.26717892e-01,\n        -5.26408702e-01],\n       [-1.37965176e+00, -1.52153491e+00,  9.58942449e-01,\n        -6.75390101e-01, -7.18017798e-01, -4.18039809e-01,\n         8.92534945e-01,  9.78880318e-01, -6.63683803e-01,\n        -8.92640905e-01, -7.34515314e-01, -7.26717892e-01,\n        -5.26408702e-01],\n       [ 5.47119008e-02, -1.52153491e+00, -3.97901431e-03,\n         2.28616561e-01,  3.38737684e-02, -4.18039809e-01,\n        -1.01891157e+00,  4.57767863e-01, -6.63683803e-01,\n         4.02548554e-01, -7.34515314e-01, -7.26717892e-01,\n        -5.26408702e-01],\n       [-2.81401543e+00,  6.57231057e-01, -3.97901431e-03,\n        -7.27189932e-02, -8.09711892e-01, -4.18039809e-01,\n        -1.01891157e+00,  2.23823542e+00, -6.63683803e-01,\n        -8.92640905e-01,  9.26724929e-01, -7.26717892e-01,\n        -5.26408702e-01],\n       [-9.38309098e-01,  6.57231057e-01, -9.66900478e-01,\n        -6.75390101e-01,  1.55349497e-02, -4.18039809e-01,\n        -1.01891157e+00, -2.80474782e-01, -6.63683803e-01,\n        -1.52532643e-01,  9.26724929e-01, -7.26717892e-01,\n         1.14978743e+00],\n       [ 5.47119008e-02, -1.52153491e+00, -9.66900478e-01,\n         2.94063655e+00,  1.44596281e+00, -4.18039809e-01,\n         2.80398147e+00, -1.45297781e+00,  1.50674161e+00,\n         2.25281921e+00, -7.34515314e-01, -7.26717892e-01,\n        -5.26408702e-01],\n       [-1.48998743e+00, -1.52153491e+00, -3.97901431e-03,\n        -1.57939676e+00, -9.19744804e-01, -4.18039809e-01,\n         8.92534945e-01,  7.61750128e-01, -6.63683803e-01,\n        -8.92640905e-01,  9.26724929e-01,  2.84004693e-01,\n        -5.26408702e-01],\n       [ 1.59941123e+00, -1.52153491e+00,  1.92186391e+00,\n         5.29952115e-01, -1.67853237e-01, -4.18039809e-01,\n         8.92534945e-01,  2.35074834e-02, -6.63683803e-01,\n         7.72602685e-01,  9.26724929e-01,  1.29472728e+00,\n        -5.26408702e-01],\n       [ 1.04773290e+00,  6.57231057e-01,  9.58942449e-01,\n        -3.74054547e-01,  1.11586407e+00, -4.18039809e-01,\n         8.92534945e-01, -8.45013276e-01,  1.50674161e+00,\n         7.72602685e-01, -7.34515314e-01, -7.26717892e-01,\n         1.14978743e+00],\n       [ 3.85718900e-01,  6.57231057e-01, -9.66900478e-01,\n        -1.93253215e-01, -5.89646067e-01, -4.18039809e-01,\n        -1.01891157e+00, -8.45013276e-01,  1.50674161e+00,\n         1.14265682e+00, -7.34515314e-01,  2.30544986e+00,\n         1.14978743e+00],\n       [ 8.27061567e-01, -1.52153491e+00,  9.58942449e-01,\n        -7.27189932e-02,  2.72278411e-01, -4.18039809e-01,\n         8.92534945e-01, -2.32149857e+00, -6.63683803e-01,\n         2.17521488e-01, -7.34515314e-01,  2.84004693e-01,\n         1.14978743e+00],\n       [-7.17637765e-01,  6.57231057e-01,  9.58942449e-01,\n        -4.34321658e-01,  1.25567862e-01,  2.39211668e+00,\n         8.92534945e-01,  1.06573239e+00, -6.63683803e-01,\n        -8.92640905e-01,  9.26724929e-01,  1.29472728e+00,\n        -5.26408702e-01],\n       [-1.37965176e+00,  6.57231057e-01, -9.66900478e-01,\n         5.29952115e-01, -4.06257880e-01, -4.18039809e-01,\n         8.92534945e-01,  1.19601051e+00, -6.63683803e-01,\n        -8.92640905e-01,  9.26724929e-01, -7.26717892e-01,\n        -5.26408702e-01],\n       [-4.96966432e-01,  6.57231057e-01, -9.66900478e-01,\n         1.13262322e+00, -9.44979625e-02, -4.18039809e-01,\n        -1.01891157e+00, -9.75291389e-01, -6.63683803e-01,\n         1.51271095e+00, -7.34515314e-01, -7.26717892e-01,\n         1.14978743e+00],\n       [ 7.16725900e-01,  6.57231057e-01, -9.66900478e-01,\n         5.29952115e-01, -7.54695436e-01, -4.18039809e-01,\n        -1.01891157e+00, -5.41031010e-01,  1.50674161e+00,\n         8.65116218e-01,  9.26724929e-01,  2.84004693e-01,\n         1.14978743e+00],\n       [-1.48998743e+00,  6.57231057e-01,  9.58942449e-01,\n        -1.15752699e+00,  3.38737684e-02, -4.18039809e-01,\n         8.92534945e-01,  1.23943655e+00, -6.63683803e-01,\n        -8.92640905e-01,  9.26724929e-01, -7.26717892e-01,\n        -5.26408702e-01],\n       [-3.86630766e-01,  6.57231057e-01,  9.58942449e-01,\n        -2.24233498e+00, -3.87919062e-01, -4.18039809e-01,\n         8.92534945e-01,  1.53785597e-01,  1.50674161e+00,\n        -8.92640905e-01,  9.26724929e-01,  2.84004693e-01,\n         1.14978743e+00],\n       [-1.04864476e+00,  6.57231057e-01,  1.92186391e+00,\n        -1.27806121e+00,  2.90617230e-01, -4.18039809e-01,\n         8.92534945e-01, -8.01587238e-01, -6.63683803e-01,\n         2.17521488e-01, -7.34515314e-01, -7.26717892e-01,\n         1.14978743e+00],\n       [-9.38309098e-01, -1.52153491e+00,  9.58942449e-01,\n         6.50486336e-01, -1.30486000e+00, -4.18039809e-01,\n        -1.01891157e+00,  4.14341825e-01,  1.50674161e+00,\n         4.02548554e-01, -2.39575556e+00, -7.26717892e-01,\n        -5.26408702e-01],\n       [-1.65959432e-01,  6.57231057e-01, -9.66900478e-01,\n         6.50486336e-01, -4.06257880e-01, -4.18039809e-01,\n        -1.01891157e+00, -1.71353403e+00,  1.50674161e+00,\n        -8.92640905e-01,  9.26724929e-01, -7.26717892e-01,\n         1.14978743e+00],\n       [ 4.96054567e-01,  6.57231057e-01,  9.58942449e-01,\n         1.13262322e+00, -6.63001342e-01,  2.39211668e+00,\n         8.92534945e-01,  2.84063711e-01, -6.63683803e-01,\n         5.87575619e-01,  9.26724929e-01, -7.26717892e-01,\n        -5.26408702e-01],\n       [-1.82099443e+00,  6.57231057e-01,  1.92186391e+00,\n        -6.75390101e-01, -3.14563787e-01, -4.18039809e-01,\n         8.92534945e-01,  1.36971466e+00,  1.50674161e+00,\n         2.62287334e+00, -7.34515314e-01, -7.26717892e-01,\n         1.14978743e+00],\n       [ 1.37873990e+00, -1.52153491e+00, -9.66900478e-01,\n        -1.51912965e+00, -4.61274336e-01, -4.18039809e-01,\n         8.92534945e-01, -3.67326858e-01, -6.63683803e-01,\n        -6.15100307e-01,  9.26724929e-01,  1.29472728e+00,\n        -5.26408702e-01],\n       [-1.04864476e+00,  6.57231057e-01, -9.66900478e-01,\n        -1.63966387e+00, -7.36356617e-01, -4.18039809e-01,\n        -1.01891157e+00, -1.06770630e-01,  1.50674161e+00,\n         1.88276508e+00, -7.34515314e-01, -7.26717892e-01,\n        -5.26408702e-01]])"
     },
     "execution_count": 295,
     "metadata": {},
     "output_type": "execute_result"
    }
   ],
   "source": [
    "X_test_scale"
   ],
   "metadata": {
    "collapsed": false,
    "ExecuteTime": {
     "end_time": "2024-11-10T01:55:42.032983600Z",
     "start_time": "2024-11-10T01:55:41.152171700Z"
    }
   },
   "id": "427e7948479a4017"
  },
  {
   "cell_type": "code",
   "execution_count": 296,
   "outputs": [],
   "source": [
    "import numpy as np\n",
    "\n",
    "class NeuralNetworkFromScratch:\n",
    "    def __init__(self, LR, X_train, Y_train, X_test, Y_test):\n",
    "        self.w = np.random.randn(X_train.shape[1])\n",
    "        self.b = np.random.randn()\n",
    "        self.LR = LR\n",
    "        self.X_train = X_train\n",
    "        self.Y_train = Y_train\n",
    "        self.X_test = X_test\n",
    "        self.Y_test = Y_test\n",
    "        self.L_train = []\n",
    "        self.L_test = []\n",
    "\n",
    "    def activation(self, x):\n",
    "        # Sigmoid\n",
    "        return 1 / (1 + np.exp(-x))\n",
    "\n",
    "    def dactivation(self, x):\n",
    "        # Derivative of sigmoid\n",
    "        return self.activation(x) * (1 - self.activation(x))\n",
    "\n",
    "    def forward(self, x):\n",
    "        hidden_1 = np.dot(x, self.w) + self.b\n",
    "        activate_1 = self.activation(hidden_1)\n",
    "        return activate_1\n",
    "\n",
    "    def backward(self, x, y_true):\n",
    "        hidden_1 = np.dot(x, self.w) + self.b\n",
    "        y_pred = self.forward(x)\n",
    "        dL_dpred = 2 * (y_pred - y_true)\n",
    "        dpred_dhidden1 = self.dactivation(hidden_1)\n",
    "        dhidden1_db = 1\n",
    "        dhidden1_dw = x\n",
    "\n",
    "        dL_db = dL_dpred * dpred_dhidden1 * dhidden1_db\n",
    "        dL_dw = dL_dpred * dpred_dhidden1 * dhidden1_dw\n",
    "\n",
    "        return dL_db, dL_dw\n",
    "\n",
    "    def optimizer(self, dL_db, dL_dw):\n",
    "        self.b -= self.LR * dL_db\n",
    "        self.w -= self.LR * dL_dw\n",
    "\n",
    "    def train(self, ITERATIONS):\n",
    "        for i in range(ITERATIONS):\n",
    "            random_index = np.random.randint(len(self.X_train))\n",
    "            y_train_true = self.Y_train[random_index]\n",
    "            Y_train_pred = self.forward(self.X_train[random_index])\n",
    "\n",
    "            L = np.sum(np.square(Y_train_pred - y_train_true))\n",
    "            self.L_train.append(L)\n",
    "\n",
    "            dL_db, dL_dw = self.backward(self.X_train[random_index], y_train_true)\n",
    "            self.optimizer(dL_db, dL_dw)\n",
    "\n",
    "            L_sum = 0\n",
    "            for j in range(len(self.X_test)):\n",
    "                Y_test_pred = self.forward(self.X_test[j])\n",
    "                L_sum += np.sum(np.square(Y_test_pred - self.Y_test[j]))\n",
    "            self.L_test.append(L_sum)\n",
    "\n",
    "        return 'Training Done'\n"
   ],
   "metadata": {
    "collapsed": false,
    "ExecuteTime": {
     "end_time": "2024-11-10T01:55:42.062777300Z",
     "start_time": "2024-11-10T01:55:41.158627Z"
    }
   },
   "id": "6b44c13362b88c7f"
  },
  {
   "cell_type": "code",
   "execution_count": 297,
   "outputs": [
    {
     "data": {
      "text/plain": "'Training Done'"
     },
     "execution_count": 297,
     "metadata": {},
     "output_type": "execute_result"
    }
   ],
   "source": [
    "LR = 0.3\n",
    "ITERATIONS = 3000\n",
    "nn = NeuralNetworkFromScratch(LR,X_train_scale,Y_train,X_test_scale,Y_test)\n",
    "nn.train(ITERATIONS)"
   ],
   "metadata": {
    "collapsed": false,
    "ExecuteTime": {
     "end_time": "2024-11-10T01:55:42.212226700Z",
     "start_time": "2024-11-10T01:55:41.163499900Z"
    }
   },
   "id": "5c9db6a2729c8977"
  },
  {
   "cell_type": "code",
   "execution_count": 298,
   "outputs": [
    {
     "data": {
      "text/plain": "<Figure size 640x480 with 1 Axes>",
      "image/png": "[encoded data removed]"
     },
     "metadata": {},
     "output_type": "display_data"
    }
   ],
   "source": [
    "from matplotlib import pyplot as plt\n",
    "sns.lineplot(x=list(range(len(nn.L_test))), y=nn.L_test)\n",
    "plt.xlabel(\"Iterations\")\n",
    "plt.ylabel(\"Test Loss\")\n",
    "plt.title(\"Test Loss over Iterations\")\n",
    "plt.show()\n"
   ],
   "metadata": {
    "collapsed": false,
    "ExecuteTime": {
     "end_time": "2024-11-10T01:55:42.320818500Z",
     "start_time": "2024-11-10T01:55:42.064781700Z"
    }
   },
   "id": "ddf14a21d1d4868a"
  },
  {
   "cell_type": "code",
   "execution_count": 299,
   "outputs": [
    {
     "name": "stdout",
     "output_type": "stream",
     "text": [
      "Accuracy: 0.7868852459016393\n"
     ]
    }
   ],
   "source": [
    "total = X_test_scale.shape[0]\n",
    "correct = 0\n",
    "for i in range(total):\n",
    "    y_pred = np.round(nn.forward(X_test_scale[i]))\n",
    "    if y_pred > 0.5:\n",
    "        y_pred = 1\n",
    "    else:\n",
    "        y_pred = 0\n",
    "    if y_pred == Y_test[i]:\n",
    "        correct += 1\n",
    "print(f'Accuracy: {correct/total}')"
   ],
   "metadata": {
    "collapsed": false,
    "ExecuteTime": {
     "end_time": "2024-11-10T01:55:42.321818900Z",
     "start_time": "2024-11-10T01:55:42.203919800Z"
    }
   },
   "id": "e01c4f5a8a918e57"
  },
  {
   "cell_type": "code",
   "execution_count": 300,
   "outputs": [
    {
     "data": {
      "text/plain": "0.7868852459016393"
     },
     "execution_count": 300,
     "metadata": {},
     "output_type": "execute_result"
    }
   ],
   "source": [
    "correct / total"
   ],
   "metadata": {
    "collapsed": false,
    "ExecuteTime": {
     "end_time": "2024-11-10T01:55:42.419334300Z",
     "start_time": "2024-11-10T01:55:42.211226700Z"
    }
   },
   "id": "bf062fc0201f0a90"
  },
  {
   "cell_type": "code",
   "execution_count": 301,
   "outputs": [
    {
     "data": {
      "text/plain": "Counter({1: 31, 0: 30})"
     },
     "execution_count": 301,
     "metadata": {},
     "output_type": "execute_result"
    }
   ],
   "source": [
    "from collections import Counter\n",
    "Counter(Y_test)"
   ],
   "metadata": {
    "collapsed": false,
    "ExecuteTime": {
     "end_time": "2024-11-10T01:55:42.419334300Z",
     "start_time": "2024-11-10T01:55:42.291304500Z"
    }
   },
   "id": "141b52a704a0f90b"
  },
  {
   "cell_type": "code",
   "execution_count": 302,
   "outputs": [
    {
     "data": {
      "text/plain": "0.5081967213114754"
     },
     "execution_count": 302,
     "metadata": {},
     "output_type": "execute_result"
    }
   ],
   "source": [
    "31 / 61"
   ],
   "metadata": {
    "collapsed": false,
    "ExecuteTime": {
     "end_time": "2024-11-10T01:55:42.419334300Z",
     "start_time": "2024-11-10T01:55:42.291304500Z"
    }
   },
   "id": "2c87a2df60010317"
  },
  {
   "cell_type": "code",
   "execution_count": 303,
   "outputs": [
    {
     "data": {
      "text/plain": "array([[24,  6],\n       [ 7, 24]], dtype=int64)"
     },
     "execution_count": 303,
     "metadata": {},
     "output_type": "execute_result"
    }
   ],
   "source": [
    "confusion_matrix(Y_test, [np.round(nn.forward(x)) for x in X_test_scale])"
   ],
   "metadata": {
    "collapsed": false,
    "ExecuteTime": {
     "end_time": "2024-11-10T01:55:42.419334300Z",
     "start_time": "2024-11-10T01:55:42.291304500Z"
    }
   },
   "id": "6ac231cc8a5a4ccc"
  },
  {
   "cell_type": "markdown",
   "source": [
    "# Tensors"
   ],
   "metadata": {
    "collapsed": false
   },
   "id": "8caea2359e90450b"
  },
  {
   "cell_type": "code",
   "execution_count": 304,
   "outputs": [],
   "source": [
    "import torch\n",
    "\n"
   ],
   "metadata": {
    "collapsed": false,
    "ExecuteTime": {
     "end_time": "2024-11-10T01:55:42.420294400Z",
     "start_time": "2024-11-10T01:55:42.291304500Z"
    }
   },
   "id": "df5a6962374e916f"
  },
  {
   "cell_type": "code",
   "execution_count": 305,
   "outputs": [
    {
     "data": {
      "text/plain": "tensor(5.5000)"
     },
     "execution_count": 305,
     "metadata": {},
     "output_type": "execute_result"
    }
   ],
   "source": [
    "x = torch.tensor(5.5)\n",
    "x"
   ],
   "metadata": {
    "collapsed": false,
    "ExecuteTime": {
     "end_time": "2024-11-10T01:55:42.420294400Z",
     "start_time": "2024-11-10T01:55:42.291304500Z"
    }
   },
   "id": "753e5d14311cb590"
  },
  {
   "cell_type": "code",
   "execution_count": 306,
   "outputs": [
    {
     "data": {
      "text/plain": "tensor(15.5000)"
     },
     "execution_count": 306,
     "metadata": {},
     "output_type": "execute_result"
    }
   ],
   "source": [
    "y = x + 10\n",
    "y"
   ],
   "metadata": {
    "collapsed": false,
    "ExecuteTime": {
     "end_time": "2024-11-10T01:55:42.420294400Z",
     "start_time": "2024-11-10T01:55:42.291304500Z"
    }
   },
   "id": "6776584791dd053f"
  },
  {
   "cell_type": "code",
   "execution_count": 307,
   "outputs": [
    {
     "data": {
      "text/plain": "False"
     },
     "execution_count": 307,
     "metadata": {},
     "output_type": "execute_result"
    }
   ],
   "source": [
    "x.requires_grad"
   ],
   "metadata": {
    "collapsed": false,
    "ExecuteTime": {
     "end_time": "2024-11-10T01:55:42.420294400Z",
     "start_time": "2024-11-10T01:55:42.291304500Z"
    }
   },
   "id": "9d7cc6f6c4a767f1"
  },
  {
   "cell_type": "code",
   "execution_count": 308,
   "outputs": [
    {
     "data": {
      "text/plain": "True"
     },
     "execution_count": 308,
     "metadata": {},
     "output_type": "execute_result"
    }
   ],
   "source": [
    "x = torch.tensor(2.0,requires_grad=True)\n",
    "x.requires_grad"
   ],
   "metadata": {
    "collapsed": false,
    "ExecuteTime": {
     "end_time": "2024-11-10T01:55:42.420799100Z",
     "start_time": "2024-11-10T01:55:42.292306600Z"
    }
   },
   "id": "9cc2143737f20004"
  },
  {
   "cell_type": "code",
   "execution_count": 309,
   "outputs": [
    {
     "data": {
      "text/plain": "<Axes: >"
     },
     "execution_count": 309,
     "metadata": {},
     "output_type": "execute_result"
    },
    {
     "data": {
      "text/plain": "<Figure size 640x480 with 1 Axes>",
      "image/png": "[encoded data removed]"
     },
     "metadata": {},
     "output_type": "display_data"
    }
   ],
   "source": [
    "def y_func(x):\n",
    "    return (x-3)*(x-6)*(x-4)\n",
    "x_range = np.linspace(0,10,101)\n",
    "y_range = [y_func(x) for x in x_range]\n",
    "sns.lineplot(x=x_range,y = y_range)"
   ],
   "metadata": {
    "collapsed": false,
    "ExecuteTime": {
     "end_time": "2024-11-10T01:55:42.561554800Z",
     "start_time": "2024-11-10T01:55:42.292306600Z"
    }
   },
   "id": "be07ed9a7e7c85c4"
  },
  {
   "cell_type": "code",
   "execution_count": 310,
   "outputs": [],
   "source": [
    "y = (x-3)*(x-6)*(x-4)\n",
    "y.backward()"
   ],
   "metadata": {
    "collapsed": false,
    "ExecuteTime": {
     "end_time": "2024-11-10T01:55:42.561554800Z",
     "start_time": "2024-11-10T01:55:42.422804800Z"
    }
   },
   "id": "6d68f909fc06d35a"
  },
  {
   "cell_type": "code",
   "execution_count": 311,
   "outputs": [
    {
     "data": {
      "text/plain": "tensor(14.)"
     },
     "execution_count": 311,
     "metadata": {},
     "output_type": "execute_result"
    }
   ],
   "source": [
    "x.grad"
   ],
   "metadata": {
    "collapsed": false,
    "ExecuteTime": {
     "end_time": "2024-11-10T01:55:42.561554800Z",
     "start_time": "2024-11-10T01:55:42.426385700Z"
    }
   },
   "id": "3ff22b82224d4291"
  },
  {
   "cell_type": "code",
   "execution_count": 312,
   "outputs": [],
   "source": [
    "x = torch.tensor(1.0,requires_grad=True)\n",
    "y = x**3\n",
    "z = 5*x-4\n",
    "z.backward()"
   ],
   "metadata": {
    "collapsed": false,
    "ExecuteTime": {
     "end_time": "2024-11-10T01:55:42.573555700Z",
     "start_time": "2024-11-10T01:55:42.434092200Z"
    }
   },
   "id": "28153e43346b9ba3"
  },
  {
   "cell_type": "code",
   "execution_count": 313,
   "outputs": [
    {
     "data": {
      "text/plain": "tensor(5.)"
     },
     "execution_count": 313,
     "metadata": {},
     "output_type": "execute_result"
    }
   ],
   "source": [
    "x.grad"
   ],
   "metadata": {
    "collapsed": false,
    "ExecuteTime": {
     "end_time": "2024-11-10T01:55:42.573555700Z",
     "start_time": "2024-11-10T01:55:42.437332900Z"
    }
   },
   "id": "4635ca524d7fba6d"
  },
  {
   "cell_type": "code",
   "execution_count": 314,
   "outputs": [
    {
     "data": {
      "text/plain": "tensor(104.)"
     },
     "execution_count": 314,
     "metadata": {},
     "output_type": "execute_result"
    }
   ],
   "source": [
    "x11 = torch.tensor(2.0,requires_grad=True)\n",
    "x21 = torch.tensor(3.0,requires_grad=True)\n",
    "x12 = 5 * x11 + 3 * x21\n",
    "x22 = 7 * x11**2 + 2 * x21\n",
    "y = 4 * x12 + 3 * x22\n",
    "y.backward()\n",
    "x11.grad"
   ],
   "metadata": {
    "collapsed": false,
    "ExecuteTime": {
     "end_time": "2024-11-10T01:55:42.573555700Z",
     "start_time": "2024-11-10T01:55:42.442276600Z"
    }
   },
   "id": "24e75deb0f2294c"
  },
  {
   "cell_type": "markdown",
   "source": [
    "# Into the Deep - Linear Regression"
   ],
   "metadata": {
    "collapsed": false
   },
   "id": "cca23411bffe322a"
  },
  {
   "cell_type": "code",
   "execution_count": 315,
   "outputs": [
    {
     "data": {
      "text/plain": "          Unnamed: 0   mpg  cyl   disp   hp  drat     wt   qsec  vs  am  gear  \\\n0          Mazda RX4  21.0    6  160.0  110  3.90  2.620  16.46   0   1     4   \n1      Mazda RX4 Wag  21.0    6  160.0  110  3.90  2.875  17.02   0   1     4   \n2         Datsun 710  22.8    4  108.0   93  3.85  2.320  18.61   1   1     4   \n3     Hornet 4 Drive  21.4    6  258.0  110  3.08  3.215  19.44   1   0     3   \n4  Hornet Sportabout  18.7    8  360.0  175  3.15  3.440  17.02   0   0     3   \n\n   carb  \n0     4  \n1     4  \n2     1  \n3     1  \n4     2  ",
      "text/html": "<div>\n<style scoped>\n    .dataframe tbody tr th:only-of-type {\n        vertical-align: middle;\n    }\n\n    .dataframe tbody tr th {\n        vertical-align: top;\n    }\n\n    .dataframe thead th {\n        text-align: right;\n    }\n</style>\n<table border=\"1\" class=\"dataframe\">\n  <thead>\n    <tr style=\"text-align: right;\">\n      <th></th>\n      <th>Unnamed: 0</th>\n      <th>mpg</th>\n      <th>cyl</th>\n      <th>disp</th>\n      <th>hp</th>\n      <th>drat</th>\n      <th>wt</th>\n      <th>qsec</th>\n      <th>vs</th>\n      <th>am</th>\n      <th>gear</th>\n      <th>carb</th>\n    </tr>\n  </thead>\n  <tbody>\n    <tr>\n      <th>0</th>\n      <td>Mazda RX4</td>\n      <td>21.0</td>\n      <td>6</td>\n      <td>160.0</td>\n      <td>110</td>\n      <td>3.90</td>\n      <td>2.620</td>\n      <td>16.46</td>\n      <td>0</td>\n      <td>1</td>\n      <td>4</td>\n      <td>4</td>\n    </tr>\n    <tr>\n      <th>1</th>\n      <td>Mazda RX4 Wag</td>\n      <td>21.0</td>\n      <td>6</td>\n      <td>160.0</td>\n      <td>110</td>\n      <td>3.90</td>\n      <td>2.875</td>\n      <td>17.02</td>\n      <td>0</td>\n      <td>1</td>\n      <td>4</td>\n      <td>4</td>\n    </tr>\n    <tr>\n      <th>2</th>\n      <td>Datsun 710</td>\n      <td>22.8</td>\n      <td>4</td>\n      <td>108.0</td>\n      <td>93</td>\n      <td>3.85</td>\n      <td>2.320</td>\n      <td>18.61</td>\n      <td>1</td>\n      <td>1</td>\n      <td>4</td>\n      <td>1</td>\n    </tr>\n    <tr>\n      <th>3</th>\n      <td>Hornet 4 Drive</td>\n      <td>21.4</td>\n      <td>6</td>\n      <td>258.0</td>\n      <td>110</td>\n      <td>3.08</td>\n      <td>3.215</td>\n      <td>19.44</td>\n      <td>1</td>\n      <td>0</td>\n      <td>3</td>\n      <td>1</td>\n    </tr>\n    <tr>\n      <th>4</th>\n      <td>Hornet Sportabout</td>\n      <td>18.7</td>\n      <td>8</td>\n      <td>360.0</td>\n      <td>175</td>\n      <td>3.15</td>\n      <td>3.440</td>\n      <td>17.02</td>\n      <td>0</td>\n      <td>0</td>\n      <td>3</td>\n      <td>2</td>\n    </tr>\n  </tbody>\n</table>\n</div>"
     },
     "execution_count": 315,
     "metadata": {},
     "output_type": "execute_result"
    }
   ],
   "source": [
    "cars_file = 'https://gist.githubusercontent.com/noamross/e5d3e859aa0c794be10b/raw/b999fb4425b54c63cab088c0ce2c0d6ce961a563/cars.csv'\n",
    "cars = pd.read_csv(cars_file)\n",
    "cars.head()"
   ],
   "metadata": {
    "collapsed": false,
    "ExecuteTime": {
     "end_time": "2024-11-10T01:55:42.710625100Z",
     "start_time": "2024-11-10T01:55:42.447398Z"
    }
   },
   "id": "3b205c36917e3885"
  },
  {
   "cell_type": "code",
   "execution_count": 316,
   "outputs": [
    {
     "data": {
      "text/plain": "<Figure size 640x480 with 1 Axes>",
      "image/png": "[encoded data removed]"
     },
     "metadata": {},
     "output_type": "display_data"
    }
   ],
   "source": [
    "import warnings\n",
    "warnings.filterwarnings('ignore')\n",
    "sns.scatterplot(x = 'wt', y ='mpg', data=cars)\n",
    "sns.regplot(x = 'wt', y ='mpg', data=cars)\n",
    "plt.show()"
   ],
   "metadata": {
    "collapsed": false,
    "ExecuteTime": {
     "end_time": "2024-11-10T01:55:42.762625600Z",
     "start_time": "2024-11-10T01:55:42.520579200Z"
    }
   },
   "id": "4a1e53af5e68dfcd"
  },
  {
   "cell_type": "code",
   "execution_count": 317,
   "outputs": [],
   "source": [
    "X_list = cars.wt.values\n",
    "x_np = np.array(X_list,dtype=float).reshape(-1,1)\n",
    "y_list = cars.mpg.values.tolist()\n",
    "y_np = np.array(y_list,dtype=float).reshape(-1,1)\n",
    "x = torch.from_numpy(x_np)\n",
    "\n",
    "\n",
    "y = torch.tensor(y_list)\n",
    "y_true = torch.from_numpy(y_np)\n",
    "x = x.float()\n",
    "y_true = y_true.float()"
   ],
   "metadata": {
    "collapsed": false,
    "ExecuteTime": {
     "end_time": "2024-11-10T01:55:42.762625600Z",
     "start_time": "2024-11-10T01:55:42.660863400Z"
    }
   },
   "id": "ccef22ef07e45e3d"
  },
  {
   "cell_type": "code",
   "execution_count": 318,
   "outputs": [
    {
     "data": {
      "text/plain": "tensor([[21.0000],\n        [21.0000],\n        [22.8000],\n        [21.4000],\n        [18.7000],\n        [18.1000],\n        [14.3000],\n        [24.4000],\n        [22.8000],\n        [19.2000],\n        [17.8000],\n        [16.4000],\n        [17.3000],\n        [15.2000],\n        [10.4000],\n        [10.4000],\n        [14.7000],\n        [32.4000],\n        [30.4000],\n        [33.9000],\n        [21.5000],\n        [15.5000],\n        [15.2000],\n        [13.3000],\n        [19.2000],\n        [27.3000],\n        [26.0000],\n        [30.4000],\n        [15.8000],\n        [19.7000],\n        [15.0000],\n        [21.4000]])"
     },
     "execution_count": 318,
     "metadata": {},
     "output_type": "execute_result"
    }
   ],
   "source": [
    "y_true"
   ],
   "metadata": {
    "collapsed": false,
    "ExecuteTime": {
     "end_time": "2024-11-10T01:55:42.762625600Z",
     "start_time": "2024-11-10T01:55:42.664878200Z"
    }
   },
   "id": "f3e7cba760ed48f8"
  },
  {
   "cell_type": "code",
   "execution_count": 319,
   "outputs": [
    {
     "name": "stdout",
     "output_type": "stream",
     "text": [
      "Epoch 0 Loss 142.18646240234375\n",
      "Epoch 1 Loss 76.0289077758789\n",
      "Epoch 2 Loss 52.587337493896484\n",
      "Epoch 3 Loss 43.15705108642578\n",
      "Epoch 4 Loss 38.96633529663086\n",
      "Epoch 5 Loss 36.916481018066406\n",
      "Epoch 6 Loss 35.786964416503906\n",
      "Epoch 7 Loss 35.06458282470703\n",
      "Epoch 8 Loss 34.52556610107422\n",
      "Epoch 9 Loss 34.0709228515625\n",
      "Epoch 10 Loss 33.65631103515625\n",
      "Epoch 11 Loss 33.261966705322266\n",
      "Epoch 12 Loss 32.878814697265625\n",
      "Epoch 13 Loss 32.50300216674805\n",
      "Epoch 14 Loss 32.13254928588867\n",
      "Epoch 15 Loss 31.766706466674805\n",
      "Epoch 16 Loss 31.404987335205078\n",
      "Epoch 17 Loss 31.04720115661621\n",
      "Epoch 18 Loss 30.693279266357422\n",
      "Epoch 19 Loss 30.343122482299805\n",
      "Epoch 20 Loss 29.99673843383789\n",
      "Epoch 21 Loss 29.65398406982422\n",
      "Epoch 22 Loss 29.31484031677246\n",
      "Epoch 23 Loss 28.979310989379883\n",
      "Epoch 24 Loss 28.64734649658203\n",
      "Epoch 25 Loss 28.318899154663086\n",
      "Epoch 26 Loss 27.993938446044922\n",
      "Epoch 27 Loss 27.67243766784668\n",
      "Epoch 28 Loss 27.354351043701172\n",
      "Epoch 29 Loss 27.039630889892578\n",
      "Epoch 30 Loss 26.728288650512695\n",
      "Epoch 31 Loss 26.42024040222168\n",
      "Epoch 32 Loss 26.115497589111328\n",
      "Epoch 33 Loss 25.813976287841797\n",
      "Epoch 34 Loss 25.51565170288086\n",
      "Epoch 35 Loss 25.220516204833984\n",
      "Epoch 36 Loss 24.928544998168945\n",
      "Epoch 37 Loss 24.639713287353516\n",
      "Epoch 38 Loss 24.35393714904785\n",
      "Epoch 39 Loss 24.07121467590332\n",
      "Epoch 40 Loss 23.791519165039062\n",
      "Epoch 41 Loss 23.514808654785156\n",
      "Epoch 42 Loss 23.24102210998535\n",
      "Epoch 43 Loss 22.970190048217773\n",
      "Epoch 44 Loss 22.702293395996094\n",
      "Epoch 45 Loss 22.43724822998047\n",
      "Epoch 46 Loss 22.175018310546875\n",
      "Epoch 47 Loss 21.91561508178711\n",
      "Epoch 48 Loss 21.659034729003906\n",
      "Epoch 49 Loss 21.405200958251953\n",
      "Epoch 50 Loss 21.154054641723633\n",
      "Epoch 51 Loss 20.90564727783203\n",
      "Epoch 52 Loss 20.65990447998047\n",
      "Epoch 53 Loss 20.41680145263672\n",
      "Epoch 54 Loss 20.17630386352539\n",
      "Epoch 55 Loss 19.938405990600586\n",
      "Epoch 56 Loss 19.70303726196289\n",
      "Epoch 57 Loss 19.470277786254883\n",
      "Epoch 58 Loss 19.239971160888672\n",
      "Epoch 59 Loss 19.01219940185547\n",
      "Epoch 60 Loss 18.786842346191406\n",
      "Epoch 61 Loss 18.563947677612305\n",
      "Epoch 62 Loss 18.343460083007812\n",
      "Epoch 63 Loss 18.125362396240234\n",
      "Epoch 64 Loss 17.90963363647461\n",
      "Epoch 65 Loss 17.696239471435547\n",
      "Epoch 66 Loss 17.485145568847656\n",
      "Epoch 67 Loss 17.276363372802734\n",
      "Epoch 68 Loss 17.069814682006836\n",
      "Epoch 69 Loss 16.865524291992188\n",
      "Epoch 70 Loss 16.663476943969727\n",
      "Epoch 71 Loss 16.463607788085938\n",
      "Epoch 72 Loss 16.265911102294922\n",
      "Epoch 73 Loss 16.070358276367188\n",
      "Epoch 74 Loss 15.876961708068848\n",
      "Epoch 75 Loss 15.685641288757324\n",
      "Epoch 76 Loss 15.496441841125488\n",
      "Epoch 77 Loss 15.309286117553711\n",
      "Epoch 78 Loss 15.12417221069336\n",
      "Epoch 79 Loss 14.941113471984863\n",
      "Epoch 80 Loss 14.76003360748291\n",
      "Epoch 81 Loss 14.580931663513184\n",
      "Epoch 82 Loss 14.403791427612305\n",
      "Epoch 83 Loss 14.228597640991211\n",
      "Epoch 84 Loss 14.055334091186523\n",
      "Epoch 85 Loss 13.883941650390625\n",
      "Epoch 86 Loss 13.714462280273438\n",
      "Epoch 87 Loss 13.546838760375977\n",
      "Epoch 88 Loss 13.381068229675293\n",
      "Epoch 89 Loss 13.217109680175781\n",
      "Epoch 90 Loss 13.054946899414062\n",
      "Epoch 91 Loss 12.894593238830566\n",
      "Epoch 92 Loss 12.735992431640625\n",
      "Epoch 93 Loss 12.579158782958984\n",
      "Epoch 94 Loss 12.424036026000977\n",
      "Epoch 95 Loss 12.270623207092285\n",
      "Epoch 96 Loss 12.118934631347656\n",
      "Epoch 97 Loss 11.968914031982422\n",
      "Epoch 98 Loss 11.820537567138672\n",
      "Epoch 99 Loss 11.673802375793457\n",
      "Epoch 100 Loss 11.528721809387207\n",
      "Epoch 101 Loss 11.385244369506836\n",
      "Epoch 102 Loss 11.243354797363281\n",
      "Epoch 103 Loss 11.103042602539062\n",
      "Epoch 104 Loss 10.96430492401123\n",
      "Epoch 105 Loss 10.827093124389648\n",
      "Epoch 106 Loss 10.691431045532227\n",
      "Epoch 107 Loss 10.557219505310059\n",
      "Epoch 108 Loss 10.424556732177734\n",
      "Epoch 109 Loss 10.293370246887207\n",
      "Epoch 110 Loss 10.163695335388184\n",
      "Epoch 111 Loss 10.035421371459961\n",
      "Epoch 112 Loss 9.908587455749512\n",
      "Epoch 113 Loss 9.78319263458252\n",
      "Epoch 114 Loss 9.65917682647705\n",
      "Epoch 115 Loss 9.536540985107422\n",
      "Epoch 116 Loss 9.415332794189453\n",
      "Epoch 117 Loss 9.295480728149414\n",
      "Epoch 118 Loss 9.176939964294434\n",
      "Epoch 119 Loss 9.059745788574219\n",
      "Epoch 120 Loss 8.943897247314453\n",
      "Epoch 121 Loss 8.829349517822266\n",
      "Epoch 122 Loss 8.716070175170898\n",
      "Epoch 123 Loss 8.604081153869629\n",
      "Epoch 124 Loss 8.493371963500977\n",
      "Epoch 125 Loss 8.383910179138184\n",
      "Epoch 126 Loss 8.27569580078125\n",
      "Epoch 127 Loss 8.16866397857666\n",
      "Epoch 128 Loss 8.06290340423584\n",
      "Epoch 129 Loss 7.958315849304199\n",
      "Epoch 130 Loss 7.854935169219971\n",
      "Epoch 131 Loss 7.752750396728516\n",
      "Epoch 132 Loss 7.651688575744629\n",
      "Epoch 133 Loss 7.551793098449707\n",
      "Epoch 134 Loss 7.453022480010986\n",
      "Epoch 135 Loss 7.355398654937744\n",
      "Epoch 136 Loss 7.258901596069336\n",
      "Epoch 137 Loss 7.163480281829834\n",
      "Epoch 138 Loss 7.069197654724121\n",
      "Epoch 139 Loss 6.975973129272461\n",
      "Epoch 140 Loss 6.883787631988525\n",
      "Epoch 141 Loss 6.792692184448242\n",
      "Epoch 142 Loss 6.702618598937988\n",
      "Epoch 143 Loss 6.613616943359375\n",
      "Epoch 144 Loss 6.525629043579102\n",
      "Epoch 145 Loss 6.438656330108643\n",
      "Epoch 146 Loss 6.352671146392822\n",
      "Epoch 147 Loss 6.267712593078613\n",
      "Epoch 148 Loss 6.183715343475342\n",
      "Epoch 149 Loss 6.100698947906494\n",
      "Epoch 150 Loss 6.018645763397217\n",
      "Epoch 151 Loss 5.937529563903809\n",
      "Epoch 152 Loss 5.857360363006592\n",
      "Epoch 153 Loss 5.778130531311035\n",
      "Epoch 154 Loss 5.699822902679443\n",
      "Epoch 155 Loss 5.622420310974121\n",
      "Epoch 156 Loss 5.5459418296813965\n",
      "Epoch 157 Loss 5.470371246337891\n",
      "Epoch 158 Loss 5.395681858062744\n",
      "Epoch 159 Loss 5.321857929229736\n",
      "Epoch 160 Loss 5.2488837242126465\n",
      "Epoch 161 Loss 5.176760196685791\n",
      "Epoch 162 Loss 5.10549783706665\n",
      "Epoch 163 Loss 5.035097122192383\n",
      "Epoch 164 Loss 4.965525150299072\n",
      "Epoch 165 Loss 4.8967413902282715\n",
      "Epoch 166 Loss 4.8287811279296875\n",
      "Epoch 167 Loss 4.761620044708252\n",
      "Epoch 168 Loss 4.695268154144287\n",
      "Epoch 169 Loss 4.629718780517578\n",
      "Epoch 170 Loss 4.564931392669678\n",
      "Epoch 171 Loss 4.50089168548584\n",
      "Epoch 172 Loss 4.437633991241455\n",
      "Epoch 173 Loss 4.375143527984619\n",
      "Epoch 174 Loss 4.313388824462891\n",
      "Epoch 175 Loss 4.252340793609619\n",
      "Epoch 176 Loss 4.192048072814941\n",
      "Epoch 177 Loss 4.132495880126953\n",
      "Epoch 178 Loss 4.073646545410156\n",
      "Epoch 179 Loss 4.0154948234558105\n",
      "Epoch 180 Loss 3.9580421447753906\n",
      "Epoch 181 Loss 3.9013044834136963\n",
      "Epoch 182 Loss 3.8452234268188477\n",
      "Epoch 183 Loss 3.7898454666137695\n",
      "Epoch 184 Loss 3.735105037689209\n",
      "Epoch 185 Loss 3.6810555458068848\n",
      "Epoch 186 Loss 3.6276543140411377\n",
      "Epoch 187 Loss 3.5748884677886963\n",
      "Epoch 188 Loss 3.5227739810943604\n",
      "Epoch 189 Loss 3.4712910652160645\n",
      "Epoch 190 Loss 3.420426845550537\n",
      "Epoch 191 Loss 3.370197296142578\n",
      "Epoch 192 Loss 3.320582389831543\n",
      "Epoch 193 Loss 3.2715840339660645\n",
      "Epoch 194 Loss 3.2231826782226562\n",
      "Epoch 195 Loss 3.175373077392578\n",
      "Epoch 196 Loss 3.128136396408081\n",
      "Epoch 197 Loss 3.0814950466156006\n",
      "Epoch 198 Loss 3.035409927368164\n",
      "Epoch 199 Loss 2.9899227619171143\n",
      "Epoch 200 Loss 2.944988489151001\n",
      "Epoch 201 Loss 2.900608777999878\n",
      "Epoch 202 Loss 2.8567917346954346\n",
      "Epoch 203 Loss 2.813525676727295\n",
      "Epoch 204 Loss 2.770780086517334\n",
      "Epoch 205 Loss 2.728595018386841\n",
      "Epoch 206 Loss 2.6869022846221924\n",
      "Epoch 207 Loss 2.645753860473633\n",
      "Epoch 208 Loss 2.6051077842712402\n",
      "Epoch 209 Loss 2.5649962425231934\n",
      "Epoch 210 Loss 2.5253658294677734\n",
      "Epoch 211 Loss 2.486248254776001\n",
      "Epoch 212 Loss 2.447627067565918\n",
      "Epoch 213 Loss 2.4094974994659424\n",
      "Epoch 214 Loss 2.3718435764312744\n",
      "Epoch 215 Loss 2.3346786499023438\n",
      "Epoch 216 Loss 2.2979748249053955\n",
      "Epoch 217 Loss 2.2617454528808594\n",
      "Epoch 218 Loss 2.225980281829834\n",
      "Epoch 219 Loss 2.190664052963257\n",
      "Epoch 220 Loss 2.155809164047241\n",
      "Epoch 221 Loss 2.121400833129883\n",
      "Epoch 222 Loss 2.087423324584961\n",
      "Epoch 223 Loss 2.0538952350616455\n",
      "Epoch 224 Loss 2.0207955837249756\n",
      "Epoch 225 Loss 1.988126516342163\n",
      "Epoch 226 Loss 1.9558994770050049\n",
      "Epoch 227 Loss 1.9240628480911255\n",
      "Epoch 228 Loss 1.8926502466201782\n",
      "Epoch 229 Loss 1.8616573810577393\n",
      "Epoch 230 Loss 1.8310649394989014\n",
      "Epoch 231 Loss 1.800869345664978\n",
      "Epoch 232 Loss 1.7710719108581543\n",
      "Epoch 233 Loss 1.7416791915893555\n",
      "Epoch 234 Loss 1.712677240371704\n",
      "Epoch 235 Loss 1.6840473413467407\n",
      "Epoch 236 Loss 1.655781626701355\n",
      "Epoch 237 Loss 1.627915620803833\n",
      "Epoch 238 Loss 1.6004165410995483\n",
      "Epoch 239 Loss 1.573280692100525\n",
      "Epoch 240 Loss 1.546505093574524\n",
      "Epoch 241 Loss 1.5201051235198975\n",
      "Epoch 242 Loss 1.4940441846847534\n",
      "Epoch 243 Loss 1.468328833580017\n",
      "Epoch 244 Loss 1.442960500717163\n",
      "Epoch 245 Loss 1.4179449081420898\n",
      "Epoch 246 Loss 1.3932605981826782\n",
      "Epoch 247 Loss 1.368927001953125\n",
      "Epoch 248 Loss 1.3449138402938843\n",
      "Epoch 249 Loss 1.321244716644287\n",
      "Epoch 250 Loss 1.2978813648223877\n",
      "Epoch 251 Loss 1.2748470306396484\n",
      "Epoch 252 Loss 1.2521299123764038\n",
      "Epoch 253 Loss 1.2297228574752808\n",
      "Epoch 254 Loss 1.2076354026794434\n",
      "Epoch 255 Loss 1.1858519315719604\n",
      "Epoch 256 Loss 1.164373755455017\n",
      "Epoch 257 Loss 1.143189787864685\n",
      "Epoch 258 Loss 1.1222971677780151\n",
      "Epoch 259 Loss 1.1017094850540161\n",
      "Epoch 260 Loss 1.0813995599746704\n",
      "Epoch 261 Loss 1.0613847970962524\n",
      "Epoch 262 Loss 1.0416581630706787\n",
      "Epoch 263 Loss 1.022189736366272\n",
      "Epoch 264 Loss 1.0030196905136108\n",
      "Epoch 265 Loss 0.9841181039810181\n",
      "Epoch 266 Loss 0.9654862880706787\n",
      "Epoch 267 Loss 0.9471327662467957\n",
      "Epoch 268 Loss 0.9290289282798767\n",
      "Epoch 269 Loss 0.9111871719360352\n",
      "Epoch 270 Loss 0.8936193585395813\n",
      "Epoch 271 Loss 0.8763010501861572\n",
      "Epoch 272 Loss 0.859230101108551\n",
      "Epoch 273 Loss 0.8424180150032043\n",
      "Epoch 274 Loss 0.8258414268493652\n",
      "Epoch 275 Loss 0.8095187544822693\n",
      "Epoch 276 Loss 0.7934337258338928\n",
      "Epoch 277 Loss 0.7775875329971313\n",
      "Epoch 278 Loss 0.7619777321815491\n",
      "Epoch 279 Loss 0.7466019988059998\n",
      "Epoch 280 Loss 0.7314580678939819\n",
      "Epoch 281 Loss 0.7165371179580688\n",
      "Epoch 282 Loss 0.7018497586250305\n",
      "Epoch 283 Loss 0.6873809099197388\n",
      "Epoch 284 Loss 0.6731348037719727\n",
      "Epoch 285 Loss 0.6591059565544128\n",
      "Epoch 286 Loss 0.6452922821044922\n",
      "Epoch 287 Loss 0.6316946148872375\n",
      "Epoch 288 Loss 0.6183047294616699\n",
      "Epoch 289 Loss 0.6051205992698669\n",
      "Epoch 290 Loss 0.5921342968940735\n",
      "Epoch 291 Loss 0.5793585777282715\n",
      "Epoch 292 Loss 0.5667911171913147\n",
      "Epoch 293 Loss 0.5544182658195496\n",
      "Epoch 294 Loss 0.5422381162643433\n",
      "Epoch 295 Loss 0.5302515625953674\n",
      "Epoch 296 Loss 0.5184539556503296\n",
      "Epoch 297 Loss 0.5068569183349609\n",
      "Epoch 298 Loss 0.49543675780296326\n",
      "Epoch 299 Loss 0.48420509696006775\n",
      "Epoch 300 Loss 0.4731546640396118\n",
      "Epoch 301 Loss 0.46228888630867004\n",
      "Epoch 302 Loss 0.45159801840782166\n",
      "Epoch 303 Loss 0.4410828649997711\n",
      "Epoch 304 Loss 0.4307366609573364\n",
      "Epoch 305 Loss 0.4205726087093353\n",
      "Epoch 306 Loss 0.41057637333869934\n",
      "Epoch 307 Loss 0.4007413983345032\n",
      "Epoch 308 Loss 0.39108529686927795\n",
      "Epoch 309 Loss 0.3815822899341583\n",
      "Epoch 310 Loss 0.37224969267845154\n",
      "Epoch 311 Loss 0.36307859420776367\n",
      "Epoch 312 Loss 0.35406050086021423\n",
      "Epoch 313 Loss 0.34520062804222107\n",
      "Epoch 314 Loss 0.3364972770214081\n",
      "Epoch 315 Loss 0.3279443681240082\n",
      "Epoch 316 Loss 0.3195403516292572\n",
      "Epoch 317 Loss 0.3112858831882477\n",
      "Epoch 318 Loss 0.30318140983581543\n",
      "Epoch 319 Loss 0.2952232360839844\n",
      "Epoch 320 Loss 0.28740566968917847\n",
      "Epoch 321 Loss 0.2797434329986572\n",
      "Epoch 322 Loss 0.2722145617008209\n",
      "Epoch 323 Loss 0.26481983065605164\n",
      "Epoch 324 Loss 0.25755786895751953\n",
      "Epoch 325 Loss 0.2504408061504364\n",
      "Epoch 326 Loss 0.24345353245735168\n",
      "Epoch 327 Loss 0.23660224676132202\n",
      "Epoch 328 Loss 0.2298780083656311\n",
      "Epoch 329 Loss 0.22328674793243408\n",
      "Epoch 330 Loss 0.21681977808475494\n",
      "Epoch 331 Loss 0.2104758471250534\n",
      "Epoch 332 Loss 0.2042674869298935\n",
      "Epoch 333 Loss 0.1981656551361084\n",
      "Epoch 334 Loss 0.19219312071800232\n",
      "Epoch 335 Loss 0.1863432675600052\n",
      "Epoch 336 Loss 0.18061138689517975\n",
      "Epoch 337 Loss 0.17499616742134094\n",
      "Epoch 338 Loss 0.1694963127374649\n",
      "Epoch 339 Loss 0.16410280764102936\n",
      "Epoch 340 Loss 0.1588299721479416\n",
      "Epoch 341 Loss 0.153667151927948\n",
      "Epoch 342 Loss 0.14861609041690826\n",
      "Epoch 343 Loss 0.14366969466209412\n",
      "Epoch 344 Loss 0.13883259892463684\n",
      "Epoch 345 Loss 0.13410207629203796\n",
      "Epoch 346 Loss 0.1294768750667572\n",
      "Epoch 347 Loss 0.12495306879281998\n",
      "Epoch 348 Loss 0.12053222209215164\n",
      "Epoch 349 Loss 0.11621179431676865\n",
      "Epoch 350 Loss 0.11198937147855759\n",
      "Epoch 351 Loss 0.10786763578653336\n",
      "Epoch 352 Loss 0.1038428395986557\n",
      "Epoch 353 Loss 0.09991145133972168\n",
      "Epoch 354 Loss 0.09607365727424622\n",
      "Epoch 355 Loss 0.0923318862915039\n",
      "Epoch 356 Loss 0.08868033438920975\n",
      "Epoch 357 Loss 0.08512137830257416\n",
      "Epoch 358 Loss 0.08165056258440018\n",
      "Epoch 359 Loss 0.07827012985944748\n",
      "Epoch 360 Loss 0.0749768316745758\n",
      "Epoch 361 Loss 0.071768619120121\n",
      "Epoch 362 Loss 0.06864754110574722\n",
      "Epoch 363 Loss 0.06561148166656494\n",
      "Epoch 364 Loss 0.06265745311975479\n",
      "Epoch 365 Loss 0.05978545919060707\n",
      "Epoch 366 Loss 0.0569908507168293\n",
      "Epoch 367 Loss 0.054281797260046005\n",
      "Epoch 368 Loss 0.051646508276462555\n",
      "Epoch 369 Loss 0.04909200221300125\n",
      "Epoch 370 Loss 0.04661381617188454\n",
      "Epoch 371 Loss 0.04421023279428482\n",
      "Epoch 372 Loss 0.041884325444698334\n",
      "Epoch 373 Loss 0.03963189199566841\n",
      "Epoch 374 Loss 0.03744983300566673\n",
      "Epoch 375 Loss 0.0353388786315918\n",
      "Epoch 376 Loss 0.033303771167993546\n",
      "Epoch 377 Loss 0.03133711963891983\n",
      "Epoch 378 Loss 0.029436204582452774\n",
      "Epoch 379 Loss 0.027606170624494553\n",
      "Epoch 380 Loss 0.025844059884548187\n",
      "Epoch 381 Loss 0.024147171527147293\n",
      "Epoch 382 Loss 0.022515909746289253\n",
      "Epoch 383 Loss 0.02094942145049572\n",
      "Epoch 384 Loss 0.019445791840553284\n",
      "Epoch 385 Loss 0.018005315214395523\n",
      "Epoch 386 Loss 0.01662616617977619\n",
      "Epoch 387 Loss 0.015310456044971943\n",
      "Epoch 388 Loss 0.014053042978048325\n",
      "Epoch 389 Loss 0.012855987064540386\n",
      "Epoch 390 Loss 0.011718402616679668\n",
      "Epoch 391 Loss 0.010637834668159485\n",
      "Epoch 392 Loss 0.009614760987460613\n",
      "Epoch 393 Loss 0.008648366667330265\n",
      "Epoch 394 Loss 0.007736501283943653\n",
      "Epoch 395 Loss 0.006881117355078459\n",
      "Epoch 396 Loss 0.006079102400690317\n",
      "Epoch 397 Loss 0.005328993313014507\n",
      "Epoch 398 Loss 0.004633450880646706\n",
      "Epoch 399 Loss 0.003988455515354872\n",
      "Epoch 400 Loss 0.003394445637241006\n",
      "Epoch 401 Loss 0.0028507495298981667\n",
      "Epoch 402 Loss 0.002356883604079485\n",
      "Epoch 403 Loss 0.0019129611318930984\n",
      "Epoch 404 Loss 0.0015162085182964802\n",
      "Epoch 405 Loss 0.0011675992282107472\n",
      "Epoch 406 Loss 0.0008649133378639817\n",
      "Epoch 407 Loss 0.000609721289947629\n",
      "Epoch 408 Loss 0.00039956066757440567\n",
      "Epoch 409 Loss 0.00023463857360184193\n",
      "Epoch 410 Loss 0.00011367992556188256\n",
      "Epoch 411 Loss 3.632740117609501e-05\n",
      "Epoch 412 Loss 1.9867766241077334e-06\n",
      "Epoch 413 Loss 1.0048985132016242e-05\n",
      "Epoch 414 Loss 5.981937647447921e-05\n",
      "Epoch 415 Loss 0.0001507395354565233\n",
      "Epoch 416 Loss 0.0002820453082676977\n",
      "Epoch 417 Loss 0.00045317545300349593\n",
      "Epoch 418 Loss 0.0006641025538556278\n",
      "Epoch 419 Loss 0.0009132503182627261\n",
      "Epoch 420 Loss 0.001200545928440988\n",
      "Epoch 421 Loss 0.001526922220364213\n",
      "Epoch 422 Loss 0.0018893425585702062\n",
      "Epoch 423 Loss 0.0022877645678818226\n",
      "Epoch 424 Loss 0.0027230812702327967\n",
      "Epoch 425 Loss 0.0031928380485624075\n",
      "Epoch 426 Loss 0.0036967070773243904\n",
      "Epoch 427 Loss 0.004234993364661932\n",
      "Epoch 428 Loss 0.004809323698282242\n",
      "Epoch 429 Loss 0.005416511557996273\n",
      "Epoch 430 Loss 0.006055925041437149\n",
      "Epoch 431 Loss 0.006726935505867004\n",
      "Epoch 432 Loss 0.007429576478898525\n",
      "Epoch 433 Loss 0.008163666352629662\n",
      "Epoch 434 Loss 0.008927648887038231\n",
      "Epoch 435 Loss 0.009722036309540272\n",
      "Epoch 436 Loss 0.010545967146754265\n",
      "Epoch 437 Loss 0.01139933243393898\n",
      "Epoch 438 Loss 0.012285470962524414\n",
      "Epoch 439 Loss 0.01319820061326027\n",
      "Epoch 440 Loss 0.014136827550828457\n",
      "Epoch 441 Loss 0.015103943645954132\n",
      "Epoch 442 Loss 0.016100149601697922\n",
      "Epoch 443 Loss 0.017117686569690704\n",
      "Epoch 444 Loss 0.018163315951824188\n",
      "Epoch 445 Loss 0.01923464983701706\n",
      "Epoch 446 Loss 0.020334504544734955\n",
      "Epoch 447 Loss 0.021456554532051086\n",
      "Epoch 448 Loss 0.02260357327759266\n",
      "Epoch 449 Loss 0.02377633936703205\n",
      "Epoch 450 Loss 0.02497032657265663\n",
      "Epoch 451 Loss 0.026187388226389885\n",
      "Epoch 452 Loss 0.0274264607578516\n",
      "Epoch 453 Loss 0.028689002618193626\n",
      "Epoch 454 Loss 0.029974669218063354\n",
      "Epoch 455 Loss 0.03128176927566528\n",
      "Epoch 456 Loss 0.03260711953043938\n",
      "Epoch 457 Loss 0.03395645320415497\n",
      "Epoch 458 Loss 0.03532525151968002\n",
      "Epoch 459 Loss 0.036714520305395126\n",
      "Epoch 460 Loss 0.038127604871988297\n",
      "Epoch 461 Loss 0.03955674543976784\n",
      "Epoch 462 Loss 0.041006773710250854\n",
      "Epoch 463 Loss 0.04247661679983139\n",
      "Epoch 464 Loss 0.04395553842186928\n",
      "Epoch 465 Loss 0.04545895755290985\n",
      "Epoch 466 Loss 0.046976905316114426\n",
      "Epoch 467 Loss 0.04851474240422249\n",
      "Epoch 468 Loss 0.05007136985659599\n",
      "Epoch 469 Loss 0.05164304003119469\n",
      "Epoch 470 Loss 0.053232837468385696\n",
      "Epoch 471 Loss 0.05484316498041153\n",
      "Epoch 472 Loss 0.05645935237407684\n",
      "Epoch 473 Loss 0.058100853115320206\n",
      "Epoch 474 Loss 0.05974908545613289\n",
      "Epoch 475 Loss 0.061409030109643936\n",
      "Epoch 476 Loss 0.0630917176604271\n",
      "Epoch 477 Loss 0.06478161364793777\n",
      "Epoch 478 Loss 0.06648990511894226\n",
      "Epoch 479 Loss 0.06821246445178986\n",
      "Epoch 480 Loss 0.06995401531457901\n",
      "Epoch 481 Loss 0.07170526683330536\n",
      "Epoch 482 Loss 0.07346472889184952\n",
      "Epoch 483 Loss 0.07524028420448303\n",
      "Epoch 484 Loss 0.07703068107366562\n",
      "Epoch 485 Loss 0.07883035391569138\n",
      "Epoch 486 Loss 0.08063781261444092\n",
      "Epoch 487 Loss 0.08245917409658432\n",
      "Epoch 488 Loss 0.08429423719644547\n",
      "Epoch 489 Loss 0.08613605797290802\n",
      "Epoch 490 Loss 0.08799778670072556\n",
      "Epoch 491 Loss 0.08986569941043854\n",
      "Epoch 492 Loss 0.09173473715782166\n",
      "Epoch 493 Loss 0.09362884610891342\n",
      "Epoch 494 Loss 0.09552344679832458\n",
      "Epoch 495 Loss 0.09742631018161774\n",
      "Epoch 496 Loss 0.0993371233344078\n",
      "Epoch 497 Loss 0.10126405954360962\n",
      "Epoch 498 Loss 0.10319479554891586\n",
      "Epoch 499 Loss 0.10513387620449066\n",
      "Epoch 500 Loss 0.10708476603031158\n",
      "Epoch 501 Loss 0.10904980450868607\n",
      "Epoch 502 Loss 0.11102253943681717\n",
      "Epoch 503 Loss 0.11299373209476471\n",
      "Epoch 504 Loss 0.1149745061993599\n",
      "Epoch 505 Loss 0.1169646605849266\n",
      "Epoch 506 Loss 0.11896267533302307\n",
      "Epoch 507 Loss 0.12096435576677322\n",
      "Epoch 508 Loss 0.12298139184713364\n",
      "Epoch 509 Loss 0.12499622255563736\n",
      "Epoch 510 Loss 0.12701654434204102\n",
      "Epoch 511 Loss 0.12903937697410583\n",
      "Epoch 512 Loss 0.13107816874980927\n",
      "Epoch 513 Loss 0.13311903178691864\n",
      "Epoch 514 Loss 0.13516443967819214\n",
      "Epoch 515 Loss 0.13721130788326263\n",
      "Epoch 516 Loss 0.13928210735321045\n",
      "Epoch 517 Loss 0.14134547114372253\n",
      "Epoch 518 Loss 0.14341677725315094\n",
      "Epoch 519 Loss 0.14548859000205994\n",
      "Epoch 520 Loss 0.14756502211093903\n",
      "Epoch 521 Loss 0.14965319633483887\n",
      "Epoch 522 Loss 0.1517382264137268\n",
      "Epoch 523 Loss 0.1538286954164505\n",
      "Epoch 524 Loss 0.15592442452907562\n",
      "Epoch 525 Loss 0.1580221951007843\n",
      "Epoch 526 Loss 0.16011415421962738\n",
      "Epoch 527 Loss 0.1622229367494583\n",
      "Epoch 528 Loss 0.16433778405189514\n",
      "Epoch 529 Loss 0.16645076870918274\n",
      "Epoch 530 Loss 0.1685631424188614\n",
      "Epoch 531 Loss 0.17068569362163544\n",
      "Epoch 532 Loss 0.17280089855194092\n",
      "Epoch 533 Loss 0.17492595314979553\n",
      "Epoch 534 Loss 0.17704954743385315\n",
      "Epoch 535 Loss 0.17917786538600922\n",
      "Epoch 536 Loss 0.18130753934383392\n",
      "Epoch 537 Loss 0.1834481656551361\n",
      "Epoch 538 Loss 0.18557998538017273\n",
      "Epoch 539 Loss 0.1877075880765915\n",
      "Epoch 540 Loss 0.1898539662361145\n",
      "Epoch 541 Loss 0.19199416041374207\n",
      "Epoch 542 Loss 0.1941278725862503\n",
      "Epoch 543 Loss 0.19627167284488678\n",
      "Epoch 544 Loss 0.1984187513589859\n",
      "Epoch 545 Loss 0.20057238638401031\n",
      "Epoch 546 Loss 0.20271874964237213\n",
      "Epoch 547 Loss 0.2048679143190384\n",
      "Epoch 548 Loss 0.20700931549072266\n",
      "Epoch 549 Loss 0.2091548591852188\n",
      "Epoch 550 Loss 0.211311474442482\n",
      "Epoch 551 Loss 0.2134615182876587\n",
      "Epoch 552 Loss 0.21560828387737274\n",
      "Epoch 553 Loss 0.21775154769420624\n",
      "Epoch 554 Loss 0.21990004181861877\n",
      "Epoch 555 Loss 0.22205549478530884\n",
      "Epoch 556 Loss 0.22419977188110352\n",
      "Epoch 557 Loss 0.22635073959827423\n",
      "Epoch 558 Loss 0.22850102186203003\n",
      "Epoch 559 Loss 0.23064681887626648\n",
      "Epoch 560 Loss 0.232784241437912\n",
      "Epoch 561 Loss 0.23494260013103485\n",
      "Epoch 562 Loss 0.23708121478557587\n",
      "Epoch 563 Loss 0.23924444615840912\n",
      "Epoch 564 Loss 0.2413875013589859\n",
      "Epoch 565 Loss 0.2435213029384613\n",
      "Epoch 566 Loss 0.24565881490707397\n",
      "Epoch 567 Loss 0.24779996275901794\n",
      "Epoch 568 Loss 0.24993896484375\n",
      "Epoch 569 Loss 0.252077579498291\n",
      "Epoch 570 Loss 0.2542310953140259\n",
      "Epoch 571 Loss 0.25636282563209534\n",
      "Epoch 572 Loss 0.2584879696369171\n",
      "Epoch 573 Loss 0.2606140971183777\n",
      "Epoch 574 Loss 0.2627450227737427\n",
      "Epoch 575 Loss 0.2648787200450897\n",
      "Epoch 576 Loss 0.2670052945613861\n",
      "Epoch 577 Loss 0.269138365983963\n",
      "Epoch 578 Loss 0.2712600827217102\n",
      "Epoch 579 Loss 0.27338412404060364\n",
      "Epoch 580 Loss 0.27550044655799866\n",
      "Epoch 581 Loss 0.2776128649711609\n",
      "Epoch 582 Loss 0.27972930669784546\n",
      "Epoch 583 Loss 0.28184568881988525\n",
      "Epoch 584 Loss 0.2839578688144684\n",
      "Epoch 585 Loss 0.2860677242279053\n",
      "Epoch 586 Loss 0.2881730794906616\n",
      "Epoch 587 Loss 0.29026150703430176\n",
      "Epoch 588 Loss 0.2923533618450165\n",
      "Epoch 589 Loss 0.29444441199302673\n",
      "Epoch 590 Loss 0.2965429425239563\n",
      "Epoch 591 Loss 0.2986280918121338\n",
      "Epoch 592 Loss 0.300722599029541\n",
      "Epoch 593 Loss 0.3028034567832947\n",
      "Epoch 594 Loss 0.30488094687461853\n",
      "Epoch 595 Loss 0.3069697916507721\n",
      "Epoch 596 Loss 0.3090360462665558\n",
      "Epoch 597 Loss 0.3111262619495392\n",
      "Epoch 598 Loss 0.3131936490535736\n",
      "Epoch 599 Loss 0.3152635991573334\n",
      "Epoch 600 Loss 0.31732529401779175\n",
      "Epoch 601 Loss 0.3193851113319397\n",
      "Epoch 602 Loss 0.32143646478652954\n",
      "Epoch 603 Loss 0.3234900236129761\n",
      "Epoch 604 Loss 0.3255240023136139\n",
      "Epoch 605 Loss 0.3275687098503113\n",
      "Epoch 606 Loss 0.32960888743400574\n",
      "Epoch 607 Loss 0.3316466212272644\n",
      "Epoch 608 Loss 0.3336796164512634\n",
      "Epoch 609 Loss 0.33570554852485657\n",
      "Epoch 610 Loss 0.33773982524871826\n",
      "Epoch 611 Loss 0.33976468443870544\n",
      "Epoch 612 Loss 0.3417777419090271\n",
      "Epoch 613 Loss 0.3437855839729309\n",
      "Epoch 614 Loss 0.3458060324192047\n",
      "Epoch 615 Loss 0.3478144109249115\n",
      "Epoch 616 Loss 0.34981730580329895\n",
      "Epoch 617 Loss 0.3518123924732208\n",
      "Epoch 618 Loss 0.3538063168525696\n",
      "Epoch 619 Loss 0.3557876944541931\n",
      "Epoch 620 Loss 0.3577723205089569\n",
      "Epoch 621 Loss 0.3597601652145386\n",
      "Epoch 622 Loss 0.36173975467681885\n",
      "Epoch 623 Loss 0.36371099948883057\n",
      "Epoch 624 Loss 0.36567142605781555\n",
      "Epoch 625 Loss 0.3676301836967468\n",
      "Epoch 626 Loss 0.36958953738212585\n",
      "Epoch 627 Loss 0.3715401589870453\n",
      "Epoch 628 Loss 0.3734959065914154\n",
      "Epoch 629 Loss 0.375442773103714\n",
      "Epoch 630 Loss 0.37739232182502747\n",
      "Epoch 631 Loss 0.3793187737464905\n",
      "Epoch 632 Loss 0.3812595307826996\n",
      "Epoch 633 Loss 0.3831886947154999\n",
      "Epoch 634 Loss 0.3850966989994049\n",
      "Epoch 635 Loss 0.38701656460762024\n",
      "Epoch 636 Loss 0.3889411985874176\n",
      "Epoch 637 Loss 0.39085152745246887\n",
      "Epoch 638 Loss 0.392761766910553\n",
      "Epoch 639 Loss 0.3946574628353119\n",
      "Epoch 640 Loss 0.3965625464916229\n",
      "Epoch 641 Loss 0.3984481394290924\n",
      "Epoch 642 Loss 0.40033337473869324\n",
      "Epoch 643 Loss 0.40222063660621643\n",
      "Epoch 644 Loss 0.4040977954864502\n",
      "Epoch 645 Loss 0.4059695899486542\n",
      "Epoch 646 Loss 0.407835990190506\n",
      "Epoch 647 Loss 0.4096944332122803\n",
      "Epoch 648 Loss 0.41155222058296204\n",
      "Epoch 649 Loss 0.41339704394340515\n",
      "Epoch 650 Loss 0.41524598002433777\n",
      "Epoch 651 Loss 0.417084276676178\n",
      "Epoch 652 Loss 0.4189192056655884\n",
      "Epoch 653 Loss 0.42074331641197205\n",
      "Epoch 654 Loss 0.42257142066955566\n",
      "Epoch 655 Loss 0.42439600825309753\n",
      "Epoch 656 Loss 0.42620211839675903\n",
      "Epoch 657 Loss 0.4280020594596863\n",
      "Epoch 658 Loss 0.4298158288002014\n",
      "Epoch 659 Loss 0.4316183924674988\n",
      "Epoch 660 Loss 0.4334171712398529\n",
      "Epoch 661 Loss 0.4352172017097473\n",
      "Epoch 662 Loss 0.4370133876800537\n",
      "Epoch 663 Loss 0.43878546357154846\n",
      "Epoch 664 Loss 0.44056618213653564\n",
      "Epoch 665 Loss 0.44233277440071106\n",
      "Epoch 666 Loss 0.4441054165363312\n",
      "Epoch 667 Loss 0.4458637833595276\n",
      "Epoch 668 Loss 0.44761544466018677\n",
      "Epoch 669 Loss 0.4493577182292938\n",
      "Epoch 670 Loss 0.4511033892631531\n",
      "Epoch 671 Loss 0.45283961296081543\n",
      "Epoch 672 Loss 0.4545920193195343\n",
      "Epoch 673 Loss 0.45632460713386536\n",
      "Epoch 674 Loss 0.4580398499965668\n",
      "Epoch 675 Loss 0.4597557485103607\n",
      "Epoch 676 Loss 0.46147483587265015\n",
      "Epoch 677 Loss 0.46317893266677856\n",
      "Epoch 678 Loss 0.4648810029029846\n",
      "Epoch 679 Loss 0.4665679335594177\n",
      "Epoch 680 Loss 0.4682735800743103\n",
      "Epoch 681 Loss 0.46996667981147766\n",
      "Epoch 682 Loss 0.4716523289680481\n",
      "Epoch 683 Loss 0.4733304977416992\n",
      "Epoch 684 Loss 0.4749932587146759\n",
      "Epoch 685 Loss 0.47666946053504944\n",
      "Epoch 686 Loss 0.4783354103565216\n",
      "Epoch 687 Loss 0.4799778461456299\n",
      "Epoch 688 Loss 0.48161780834198\n",
      "Epoch 689 Loss 0.48327118158340454\n",
      "Epoch 690 Loss 0.4849008023738861\n",
      "Epoch 691 Loss 0.48653316497802734\n",
      "Epoch 692 Loss 0.48817363381385803\n",
      "Epoch 693 Loss 0.4898088276386261\n",
      "Epoch 694 Loss 0.49143606424331665\n",
      "Epoch 695 Loss 0.49305260181427\n",
      "Epoch 696 Loss 0.49465301632881165\n",
      "Epoch 697 Loss 0.496256023645401\n",
      "Epoch 698 Loss 0.49784818291664124\n",
      "Epoch 699 Loss 0.4994482696056366\n",
      "Epoch 700 Loss 0.5010347366333008\n",
      "Epoch 701 Loss 0.5026209950447083\n",
      "Epoch 702 Loss 0.504188060760498\n",
      "Epoch 703 Loss 0.5057548880577087\n",
      "Epoch 704 Loss 0.5073241591453552\n",
      "Epoch 705 Loss 0.5088985562324524\n",
      "Epoch 706 Loss 0.5104590654373169\n",
      "Epoch 707 Loss 0.5120164752006531\n",
      "Epoch 708 Loss 0.5135571360588074\n",
      "Epoch 709 Loss 0.5150864720344543\n",
      "Epoch 710 Loss 0.5166125297546387\n",
      "Epoch 711 Loss 0.5181546211242676\n",
      "Epoch 712 Loss 0.5196714401245117\n",
      "Epoch 713 Loss 0.5211767554283142\n",
      "Epoch 714 Loss 0.5226925015449524\n",
      "Epoch 715 Loss 0.5242159962654114\n",
      "Epoch 716 Loss 0.5257251262664795\n",
      "Epoch 717 Loss 0.5272253155708313\n",
      "Epoch 718 Loss 0.5287054777145386\n",
      "Epoch 719 Loss 0.5302015542984009\n",
      "Epoch 720 Loss 0.531683087348938\n",
      "Epoch 721 Loss 0.5331527590751648\n",
      "Epoch 722 Loss 0.5346216559410095\n",
      "Epoch 723 Loss 0.5360926389694214\n",
      "Epoch 724 Loss 0.5375683903694153\n",
      "Epoch 725 Loss 0.5390153527259827\n",
      "Epoch 726 Loss 0.540458619594574\n",
      "Epoch 727 Loss 0.541898250579834\n",
      "Epoch 728 Loss 0.5433453917503357\n",
      "Epoch 729 Loss 0.544780433177948\n",
      "Epoch 730 Loss 0.5462173223495483\n",
      "Epoch 731 Loss 0.547644853591919\n",
      "Epoch 732 Loss 0.5490741729736328\n",
      "Epoch 733 Loss 0.5504827499389648\n",
      "Epoch 734 Loss 0.5518988370895386\n",
      "Epoch 735 Loss 0.5533110499382019\n",
      "Epoch 736 Loss 0.5547136664390564\n",
      "Epoch 737 Loss 0.5561038851737976\n",
      "Epoch 738 Loss 0.557481586933136\n",
      "Epoch 739 Loss 0.5588666796684265\n",
      "Epoch 740 Loss 0.5602535009384155\n",
      "Epoch 741 Loss 0.5616277456283569\n",
      "Epoch 742 Loss 0.562989354133606\n",
      "Epoch 743 Loss 0.5643554925918579\n",
      "Epoch 744 Loss 0.5657232403755188\n",
      "Epoch 745 Loss 0.5670754313468933\n",
      "Epoch 746 Loss 0.5684235095977783\n",
      "Epoch 747 Loss 0.5697760581970215\n",
      "Epoch 748 Loss 0.5711157917976379\n",
      "Epoch 749 Loss 0.5724513530731201\n",
      "Epoch 750 Loss 0.5737797617912292\n",
      "Epoch 751 Loss 0.5751213431358337\n",
      "Epoch 752 Loss 0.5764354467391968\n",
      "Epoch 753 Loss 0.5777279138565063\n",
      "Epoch 754 Loss 0.5790275931358337\n",
      "Epoch 755 Loss 0.5803462266921997\n",
      "Epoch 756 Loss 0.5816401243209839\n",
      "Epoch 757 Loss 0.5829238295555115\n",
      "Epoch 758 Loss 0.5842235088348389\n",
      "Epoch 759 Loss 0.5855129957199097\n",
      "Epoch 760 Loss 0.5867863893508911\n",
      "Epoch 761 Loss 0.5880669355392456\n",
      "Epoch 762 Loss 0.5893372297286987\n",
      "Epoch 763 Loss 0.5906147360801697\n",
      "Epoch 764 Loss 0.5918760299682617\n",
      "Epoch 765 Loss 0.5931210517883301\n",
      "Epoch 766 Loss 0.594361424446106\n",
      "Epoch 767 Loss 0.5956090688705444\n",
      "Epoch 768 Loss 0.596863865852356\n",
      "Epoch 769 Loss 0.598102331161499\n",
      "Epoch 770 Loss 0.5993420481681824\n",
      "Epoch 771 Loss 0.6005593538284302\n",
      "Epoch 772 Loss 0.6017661094665527\n",
      "Epoch 773 Loss 0.6030066609382629\n",
      "Epoch 774 Loss 0.6042218208312988\n",
      "Epoch 775 Loss 0.6054262518882751\n",
      "Epoch 776 Loss 0.6066141128540039\n",
      "Epoch 777 Loss 0.6078120470046997\n",
      "Epoch 778 Loss 0.6090022921562195\n",
      "Epoch 779 Loss 0.6101936101913452\n",
      "Epoch 780 Loss 0.611392080783844\n",
      "Epoch 781 Loss 0.6125738620758057\n",
      "Epoch 782 Loss 0.6137447953224182\n",
      "Epoch 783 Loss 0.6149287819862366\n",
      "Epoch 784 Loss 0.6161080002784729\n",
      "Epoch 785 Loss 0.617270290851593\n",
      "Epoch 786 Loss 0.6184276938438416\n",
      "Epoch 787 Loss 0.6195651888847351\n",
      "Epoch 788 Loss 0.6207157373428345\n",
      "Epoch 789 Loss 0.6218643188476562\n",
      "Epoch 790 Loss 0.6230019330978394\n",
      "Epoch 791 Loss 0.6241285800933838\n",
      "Epoch 792 Loss 0.6252622008323669\n",
      "Epoch 793 Loss 0.6263848543167114\n",
      "Epoch 794 Loss 0.6274963617324829\n",
      "Epoch 795 Loss 0.628605842590332\n",
      "Epoch 796 Loss 0.6297253966331482\n",
      "Epoch 797 Loss 0.6308308243751526\n",
      "Epoch 798 Loss 0.6319401860237122\n",
      "Epoch 799 Loss 0.6330445408821106\n",
      "Epoch 800 Loss 0.63414067029953\n",
      "Epoch 801 Loss 0.635243833065033\n",
      "Epoch 802 Loss 0.6363205909729004\n",
      "Epoch 803 Loss 0.6374043822288513\n",
      "Epoch 804 Loss 0.6384768486022949\n",
      "Epoch 805 Loss 0.6395472288131714\n",
      "Epoch 806 Loss 0.6406062245368958\n",
      "Epoch 807 Loss 0.6416630744934082\n",
      "Epoch 808 Loss 0.6427146792411804\n",
      "Epoch 809 Loss 0.643770158290863\n",
      "Epoch 810 Loss 0.6448265910148621\n",
      "Epoch 811 Loss 0.6458593010902405\n",
      "Epoch 812 Loss 0.6469020247459412\n",
      "Epoch 813 Loss 0.6479426026344299\n",
      "Epoch 814 Loss 0.648993194103241\n",
      "Epoch 815 Loss 0.6500046253204346\n",
      "Epoch 816 Loss 0.6510230302810669\n",
      "Epoch 817 Loss 0.6520483493804932\n",
      "Epoch 818 Loss 0.6530683636665344\n",
      "Epoch 819 Loss 0.6540799140930176\n",
      "Epoch 820 Loss 0.6550922393798828\n",
      "Epoch 821 Loss 0.6560991406440735\n",
      "Epoch 822 Loss 0.6571068167686462\n",
      "Epoch 823 Loss 0.6580967307090759\n",
      "Epoch 824 Loss 0.6590904593467712\n",
      "Epoch 825 Loss 0.6600725650787354\n",
      "Epoch 826 Loss 0.6610398888587952\n",
      "Epoch 827 Loss 0.6620327234268188\n",
      "Epoch 828 Loss 0.663010835647583\n",
      "Epoch 829 Loss 0.6639834046363831\n",
      "Epoch 830 Loss 0.6649535894393921\n",
      "Epoch 831 Loss 0.665905773639679\n",
      "Epoch 832 Loss 0.6668773889541626\n",
      "Epoch 833 Loss 0.6678372025489807\n",
      "Epoch 834 Loss 0.668782114982605\n",
      "Epoch 835 Loss 0.6697276830673218\n",
      "Epoch 836 Loss 0.6706708073616028\n",
      "Epoch 837 Loss 0.6716145873069763\n",
      "Epoch 838 Loss 0.6725434064865112\n",
      "Epoch 839 Loss 0.6734790802001953\n",
      "Epoch 840 Loss 0.6744060516357422\n",
      "Epoch 841 Loss 0.6753148436546326\n",
      "Epoch 842 Loss 0.67623370885849\n",
      "Epoch 843 Loss 0.6771562695503235\n",
      "Epoch 844 Loss 0.6780606508255005\n",
      "Epoch 845 Loss 0.6789876222610474\n",
      "Epoch 846 Loss 0.6798931956291199\n",
      "Epoch 847 Loss 0.6808025240898132\n",
      "Epoch 848 Loss 0.6816935539245605\n",
      "Epoch 849 Loss 0.682597815990448\n",
      "Epoch 850 Loss 0.6834931373596191\n",
      "Epoch 851 Loss 0.6843733191490173\n",
      "Epoch 852 Loss 0.685244619846344\n",
      "Epoch 853 Loss 0.6861164569854736\n",
      "Epoch 854 Loss 0.6869951486587524\n",
      "Epoch 855 Loss 0.6878554224967957\n",
      "Epoch 856 Loss 0.6887415647506714\n",
      "Epoch 857 Loss 0.6896124482154846\n",
      "Epoch 858 Loss 0.6904743909835815\n",
      "Epoch 859 Loss 0.6913336515426636\n",
      "Epoch 860 Loss 0.6921775937080383\n",
      "Epoch 861 Loss 0.6930157542228699\n",
      "Epoch 862 Loss 0.6938543319702148\n",
      "Epoch 863 Loss 0.6946935057640076\n",
      "Epoch 864 Loss 0.6955204010009766\n",
      "Epoch 865 Loss 0.6963477730751038\n",
      "Epoch 866 Loss 0.6971756815910339\n",
      "Epoch 867 Loss 0.6980040669441223\n",
      "Epoch 868 Loss 0.6988138556480408\n",
      "Epoch 869 Loss 0.6996399760246277\n",
      "Epoch 870 Loss 0.7004602551460266\n",
      "Epoch 871 Loss 0.7012714147567749\n",
      "Epoch 872 Loss 0.7020735144615173\n",
      "Epoch 873 Loss 0.7028887867927551\n",
      "Epoch 874 Loss 0.7036885619163513\n",
      "Epoch 875 Loss 0.7044919729232788\n",
      "Epoch 876 Loss 0.7052894830703735\n",
      "Epoch 877 Loss 0.7060841917991638\n",
      "Epoch 878 Loss 0.7068729400634766\n",
      "Epoch 879 Loss 0.7076749801635742\n",
      "Epoch 880 Loss 0.708448588848114\n",
      "Epoch 881 Loss 0.7092226147651672\n",
      "Epoch 882 Loss 0.7100002765655518\n",
      "Epoch 883 Loss 0.710771918296814\n",
      "Epoch 884 Loss 0.7115375399589539\n",
      "Epoch 885 Loss 0.7122971415519714\n",
      "Epoch 886 Loss 0.7130635976791382\n",
      "Epoch 887 Loss 0.7138304710388184\n",
      "Epoch 888 Loss 0.7145751714706421\n",
      "Epoch 889 Loss 0.715307354927063\n",
      "Epoch 890 Loss 0.7160624861717224\n",
      "Epoch 891 Loss 0.7168115973472595\n",
      "Epoch 892 Loss 0.7175546288490295\n",
      "Epoch 893 Loss 0.718285083770752\n",
      "Epoch 894 Loss 0.7190256118774414\n",
      "Epoch 895 Loss 0.7197568416595459\n",
      "Epoch 896 Loss 0.7204982042312622\n",
      "Epoch 897 Loss 0.7212172150611877\n",
      "Epoch 898 Loss 0.7219495177268982\n",
      "Epoch 899 Loss 0.722669243812561\n",
      "Epoch 900 Loss 0.7233763933181763\n",
      "Epoch 901 Loss 0.7240903377532959\n",
      "Epoch 902 Loss 0.7247851490974426\n",
      "Epoch 903 Loss 0.7254965901374817\n",
      "Epoch 904 Loss 0.7262083292007446\n",
      "Epoch 905 Loss 0.7269041538238525\n",
      "Epoch 906 Loss 0.7276068329811096\n",
      "Epoch 907 Loss 0.7283033728599548\n",
      "Epoch 908 Loss 0.7289969325065613\n",
      "Epoch 909 Loss 0.7296810746192932\n",
      "Epoch 910 Loss 0.7303785681724548\n",
      "Epoch 911 Loss 0.7310633659362793\n",
      "Epoch 912 Loss 0.7317419648170471\n",
      "Epoch 913 Loss 0.7324110269546509\n",
      "Epoch 914 Loss 0.7330706715583801\n",
      "Epoch 915 Loss 0.7337305545806885\n",
      "Epoch 916 Loss 0.7344136238098145\n",
      "Epoch 917 Loss 0.7350839376449585\n",
      "Epoch 918 Loss 0.7357316613197327\n",
      "Epoch 919 Loss 0.7363993525505066\n",
      "Epoch 920 Loss 0.7370476126670837\n",
      "Epoch 921 Loss 0.7377060651779175\n",
      "Epoch 922 Loss 0.7383483648300171\n",
      "Epoch 923 Loss 0.7390073537826538\n",
      "Epoch 924 Loss 0.7396436929702759\n",
      "Epoch 925 Loss 0.7402737140655518\n",
      "Epoch 926 Loss 0.7409007549285889\n",
      "Epoch 927 Loss 0.7415280342102051\n",
      "Epoch 928 Loss 0.7421654462814331\n",
      "Epoch 929 Loss 0.7427834272384644\n",
      "Epoch 930 Loss 0.743408203125\n",
      "Epoch 931 Loss 0.7440365552902222\n",
      "Epoch 932 Loss 0.7446684241294861\n",
      "Epoch 933 Loss 0.7452841401100159\n",
      "Epoch 934 Loss 0.7459099888801575\n",
      "Epoch 935 Loss 0.7465360760688782\n",
      "Epoch 936 Loss 0.747136116027832\n",
      "Epoch 937 Loss 0.7477429509162903\n",
      "Epoch 938 Loss 0.7483236193656921\n",
      "Epoch 939 Loss 0.7489176988601685\n",
      "Epoch 940 Loss 0.7495219707489014\n",
      "Epoch 941 Loss 0.7501132488250732\n",
      "Epoch 942 Loss 0.7507080435752869\n",
      "Epoch 943 Loss 0.7512964606285095\n",
      "Epoch 944 Loss 0.7518984079360962\n",
      "Epoch 945 Loss 0.752480685710907\n",
      "Epoch 946 Loss 0.7530565857887268\n",
      "Epoch 947 Loss 0.753639280796051\n",
      "Epoch 948 Loss 0.7542089819908142\n",
      "Epoch 949 Loss 0.7547921538352966\n",
      "Epoch 950 Loss 0.7553689479827881\n",
      "Epoch 951 Loss 0.7559393048286438\n",
      "Epoch 952 Loss 0.7565099000930786\n",
      "Epoch 953 Loss 0.7570673823356628\n",
      "Epoch 954 Loss 0.7576417326927185\n",
      "Epoch 955 Loss 0.7581963539123535\n",
      "Epoch 956 Loss 0.7587544918060303\n",
      "Epoch 957 Loss 0.7593128085136414\n",
      "Epoch 958 Loss 0.7598580718040466\n",
      "Epoch 959 Loss 0.7604201436042786\n",
      "Epoch 960 Loss 0.7609691023826599\n",
      "Epoch 961 Loss 0.7615016102790833\n",
      "Epoch 962 Loss 0.7620410323143005\n",
      "Epoch 963 Loss 0.7625805735588074\n",
      "Epoch 964 Loss 0.7631070017814636\n",
      "Epoch 965 Loss 0.7636369466781616\n",
      "Epoch 966 Loss 0.7641770243644714\n",
      "Epoch 967 Loss 0.7647140622138977\n",
      "Epoch 968 Loss 0.765254557132721\n",
      "Epoch 969 Loss 0.7657818794250488\n",
      "Epoch 970 Loss 0.7663094401359558\n",
      "Epoch 971 Loss 0.7668204307556152\n",
      "Epoch 972 Loss 0.767331600189209\n",
      "Epoch 973 Loss 0.7678529620170593\n",
      "Epoch 974 Loss 0.7683477997779846\n",
      "Epoch 975 Loss 0.7688594460487366\n",
      "Epoch 976 Loss 0.7693612575531006\n",
      "Epoch 977 Loss 0.769846498966217\n",
      "Epoch 978 Loss 0.770358681678772\n",
      "Epoch 979 Loss 0.7708743810653687\n",
      "Epoch 980 Loss 0.7713869214057922\n",
      "Epoch 981 Loss 0.7718761563301086\n",
      "Epoch 982 Loss 0.7723756432533264\n",
      "Epoch 983 Loss 0.7728752493858337\n",
      "Epoch 984 Loss 0.7733548879623413\n",
      "Epoch 985 Loss 0.7738480567932129\n",
      "Epoch 986 Loss 0.7743414640426636\n",
      "Epoch 987 Loss 0.7748349905014038\n",
      "Epoch 988 Loss 0.7753118872642517\n",
      "Epoch 989 Loss 0.7757720947265625\n",
      "Epoch 990 Loss 0.7762526273727417\n",
      "Epoch 991 Loss 0.7767199277877808\n",
      "Epoch 992 Loss 0.7771940231323242\n",
      "Epoch 993 Loss 0.7776648998260498\n",
      "Epoch 994 Loss 0.7781359553337097\n",
      "Epoch 995 Loss 0.7786003947257996\n",
      "Epoch 996 Loss 0.7790615558624268\n",
      "Epoch 997 Loss 0.7795431613922119\n",
      "Epoch 998 Loss 0.779994547367096\n",
      "Epoch 999 Loss 0.7804595232009888\n"
     ]
    }
   ],
   "source": [
    "w = torch.rand(1,requires_grad=True,dtype=torch.float32)\n",
    "b = torch.rand(1,requires_grad=True,dtype=torch.float32)\n",
    "\n",
    "num_epochs = 1000\n",
    "learning_rate = 0.001\n",
    "\n",
    "for epoch in range(num_epochs):\n",
    " \n",
    " for i in range(len(x)):\n",
    "     y_pred = x[i] * w + b\n",
    "     \n",
    "     loss = torch.pow(y_pred - y[i],2)\n",
    "     \n",
    "     loss.backward()\n",
    "     \n",
    "     loss_value = loss.data[0]\n",
    "     \n",
    "     with torch.no_grad():\n",
    "         w -= learning_rate * w.grad\n",
    "         b -= learning_rate * b.grad\n",
    "         \n",
    "         w.grad.zero_()\n",
    "         b.grad.zero_()\n",
    "         \n",
    "    \n",
    " print(f'Epoch {epoch} Loss {loss_value}')\n",
    "     \n",
    "     "
   ],
   "metadata": {
    "collapsed": false,
    "ExecuteTime": {
     "end_time": "2024-11-10T01:55:44.466158200Z",
     "start_time": "2024-11-10T01:55:42.670243900Z"
    }
   },
   "id": "e9fd8df89a7e9369"
  },
  {
   "cell_type": "code",
   "execution_count": 320,
   "outputs": [
    {
     "name": "stdout",
     "output_type": "stream",
     "text": [
      "weight: tensor([-5.2299], requires_grad=True) bias: tensor([36.8073], requires_grad=True)\n"
     ]
    }
   ],
   "source": [
    "print(f'weight: {w} bias: {b}')"
   ],
   "metadata": {
    "collapsed": false,
    "ExecuteTime": {
     "end_time": "2024-11-10T01:55:44.472690400Z",
     "start_time": "2024-11-10T01:55:44.463617900Z"
    }
   },
   "id": "3be594faadc33d07"
  },
  {
   "cell_type": "code",
   "execution_count": 321,
   "outputs": [],
   "source": [
    "y_pred = (x * w + b).detach().numpy()"
   ],
   "metadata": {
    "collapsed": false,
    "ExecuteTime": {
     "end_time": "2024-11-10T01:55:44.483148600Z",
     "start_time": "2024-11-10T01:55:44.467163Z"
    }
   },
   "id": "213ffb12c294e0f6"
  },
  {
   "cell_type": "code",
   "execution_count": 322,
   "outputs": [
    {
     "data": {
      "text/plain": "(32,)"
     },
     "execution_count": 322,
     "metadata": {},
     "output_type": "execute_result"
    }
   ],
   "source": [
    "y_pred.reshape(-1).shape"
   ],
   "metadata": {
    "collapsed": false,
    "ExecuteTime": {
     "end_time": "2024-11-10T01:55:44.483148600Z",
     "start_time": "2024-11-10T01:55:44.474694500Z"
    }
   },
   "id": "b7eb8ec2f77ae41d"
  },
  {
   "cell_type": "code",
   "execution_count": 323,
   "outputs": [
    {
     "data": {
      "text/plain": "<Axes: xlabel='wt', ylabel='mpg'>"
     },
     "execution_count": 323,
     "metadata": {},
     "output_type": "execute_result"
    },
    {
     "data": {
      "text/plain": "<Figure size 640x480 with 1 Axes>",
      "image/png": "[encoded data removed]"
     },
     "metadata": {},
     "output_type": "display_data"
    }
   ],
   "source": [
    "sns.scatterplot(x = X_list, y = y_list)\n",
    "sns.lineplot(x = X_list, y = y_pred.reshape(-1) , color='red')\n",
    "sns.regplot(x = 'wt', y ='mpg', data=cars)"
   ],
   "metadata": {
    "collapsed": false,
    "ExecuteTime": {
     "end_time": "2024-11-10T01:55:44.672954100Z",
     "start_time": "2024-11-10T01:55:44.479144800Z"
    }
   },
   "id": "e2636804d3e43287"
  },
  {
   "cell_type": "code",
   "execution_count": 324,
   "outputs": [
    {
     "data": {
      "text/plain": "<Axes: >"
     },
     "execution_count": 324,
     "metadata": {},
     "output_type": "execute_result"
    },
    {
     "data": {
      "text/plain": "<Figure size 640x480 with 1 Axes>",
      "image/png": "[encoded data removed]"
     },
     "metadata": {},
     "output_type": "display_data"
    }
   ],
   "source": [
    "from sklearn.linear_model import LinearRegression\n",
    "\n",
    "lr = LinearRegression()\n",
    "lr.fit(x_np,y_list)\n",
    "y_pred_lr = lr.predict(x_np)\n",
    "sns.scatterplot(x = X_list, y = y_list)\n",
    "sns.lineplot(x = X_list, y = y_pred.reshape(-1) , color='gray')\n",
    "sns.lineplot(x = X_list, y = y_pred_lr , color='blue')\n",
    "#sns.regplot(x = 'wt', y ='mpg', data=cars)\n"
   ],
   "metadata": {
    "collapsed": false,
    "ExecuteTime": {
     "end_time": "2024-11-10T01:55:44.847037Z",
     "start_time": "2024-11-10T01:55:44.669954700Z"
    }
   },
   "id": "75dc482ded30cb1c"
  },
  {
   "cell_type": "code",
   "execution_count": 325,
   "outputs": [
    {
     "name": "stdout",
     "output_type": "stream",
     "text": [
      "weight: [-5.34447157] bias: 37.28512616734204\n"
     ]
    }
   ],
   "source": [
    "print(f'weight: {lr.coef_} bias: {lr.intercept_}')"
   ],
   "metadata": {
    "collapsed": false,
    "ExecuteTime": {
     "end_time": "2024-11-10T01:55:44.851746500Z",
     "start_time": "2024-11-10T01:55:44.845209500Z"
    }
   },
   "id": "17e3cb4352d0b2db"
  },
  {
   "cell_type": "code",
   "execution_count": 326,
   "outputs": [],
   "source": [
    "import os\n",
    "from torchviz import make_dot\n",
    "import torch.nn as nn"
   ],
   "metadata": {
    "collapsed": false,
    "ExecuteTime": {
     "end_time": "2024-11-10T01:55:44.860745800Z",
     "start_time": "2024-11-10T01:55:44.849041700Z"
    }
   },
   "id": "3b3c67da2bb2c02"
  },
  {
   "cell_type": "code",
   "execution_count": 327,
   "outputs": [
    {
     "data": {
      "image/svg+xml": "<?xml version=\"1.0\" encoding=\"UTF-8\" standalone=\"no\"?>\n<!DOCTYPE svg PUBLIC \"-//W3C//DTD SVG 1.1//EN\"\n \"http://www.w3.org/Graphics/SVG/1.1/DTD/svg11.dtd\">\n<!-- Generated by graphviz version 12.2.0 (20241103.1931)\n -->\n<!-- Pages: 1 -->\n<svg width=\"220pt\" height=\"405pt\"\n viewBox=\"0.00 0.00 220.00 405.25\" xmlns=\"http://www.w3.org/2000/svg\" xmlns:xlink=\"http://www.w3.org/1999/xlink\">\n<g id=\"graph0\" class=\"graph\" transform=\"scale(1 1) rotate(0) translate(4 401.25)\">\n<polygon fill=\"white\" stroke=\"none\" points=\"-4,4 -4,-401.25 216,-401.25 216,4 -4,4\"/>\n<!-- 2425486639040 -->\n<g id=\"node1\" class=\"node\">\n<title>2425486639040</title>\n<polygon fill=\"#caff70\" stroke=\"black\" points=\"133,-32.75 79,-32.75 79,0 133,0 133,-32.75\"/>\n<text text-anchor=\"middle\" x=\"106\" y=\"-7.25\" font-family=\"monospace\" font-size=\"10.00\"> (1)</text>\n</g>\n<!-- 2425441982528 -->\n<g id=\"node2\" class=\"node\">\n<title>2425441982528</title>\n<polygon fill=\"lightgrey\" stroke=\"black\" points=\"150,-89.5 62,-89.5 62,-68.75 150,-68.75 150,-89.5\"/>\n<text text-anchor=\"middle\" x=\"106\" y=\"-76\" font-family=\"monospace\" font-size=\"10.00\">PowBackward0</text>\n</g>\n<!-- 2425441982528&#45;&gt;2425486639040 -->\n<g id=\"edge8\" class=\"edge\">\n<title>2425441982528&#45;&gt;2425486639040</title>\n<path fill=\"none\" stroke=\"black\" d=\"M106,-68.36C106,-61.89 106,-53.05 106,-44.55\"/>\n<polygon fill=\"black\" stroke=\"black\" points=\"109.5,-44.55 106,-34.55 102.5,-44.55 109.5,-44.55\"/>\n</g>\n<!-- 2425441989344 -->\n<g id=\"node3\" class=\"node\">\n<title>2425441989344</title>\n<polygon fill=\"lightgrey\" stroke=\"black\" points=\"150,-146.25 62,-146.25 62,-125.5 150,-125.5 150,-146.25\"/>\n<text text-anchor=\"middle\" x=\"106\" y=\"-132.75\" font-family=\"monospace\" font-size=\"10.00\">SubBackward0</text>\n</g>\n<!-- 2425441989344&#45;&gt;2425441982528 -->\n<g id=\"edge1\" class=\"edge\">\n<title>2425441989344&#45;&gt;2425441982528</title>\n<path fill=\"none\" stroke=\"black\" d=\"M106,-125.09C106,-118.47 106,-109.47 106,-101.27\"/>\n<polygon fill=\"black\" stroke=\"black\" points=\"109.5,-101.34 106,-91.34 102.5,-101.34 109.5,-101.34\"/>\n</g>\n<!-- 2425466145904 -->\n<g id=\"node4\" class=\"node\">\n<title>2425466145904</title>\n<polygon fill=\"lightgrey\" stroke=\"black\" points=\"150,-203 62,-203 62,-182.25 150,-182.25 150,-203\"/>\n<text text-anchor=\"middle\" x=\"106\" y=\"-189.5\" font-family=\"monospace\" font-size=\"10.00\">AddBackward0</text>\n</g>\n<!-- 2425466145904&#45;&gt;2425441989344 -->\n<g id=\"edge2\" class=\"edge\">\n<title>2425466145904&#45;&gt;2425441989344</title>\n<path fill=\"none\" stroke=\"black\" d=\"M106,-181.84C106,-175.22 106,-166.22 106,-158.02\"/>\n<polygon fill=\"black\" stroke=\"black\" points=\"109.5,-158.09 106,-148.09 102.5,-158.09 109.5,-158.09\"/>\n</g>\n<!-- 2425486855232 -->\n<g id=\"node5\" class=\"node\">\n<title>2425486855232</title>\n<polygon fill=\"lightgrey\" stroke=\"black\" points=\"94,-259.75 6,-259.75 6,-239 94,-239 94,-259.75\"/>\n<text text-anchor=\"middle\" x=\"50\" y=\"-246.25\" font-family=\"monospace\" font-size=\"10.00\">MulBackward0</text>\n</g>\n<!-- 2425486855232&#45;&gt;2425466145904 -->\n<g id=\"edge3\" class=\"edge\">\n<title>2425486855232&#45;&gt;2425466145904</title>\n<path fill=\"none\" stroke=\"black\" d=\"M60.01,-238.59C67.74,-231.03 78.63,-220.39 87.87,-211.35\"/>\n<polygon fill=\"black\" stroke=\"black\" points=\"90.29,-213.88 94.99,-204.39 85.4,-208.87 90.29,-213.88\"/>\n</g>\n<!-- 2425443054544 -->\n<g id=\"node6\" class=\"node\">\n<title>2425443054544</title>\n<polygon fill=\"lightgrey\" stroke=\"black\" points=\"100,-322.5 0,-322.5 0,-301.75 100,-301.75 100,-322.5\"/>\n<text text-anchor=\"middle\" x=\"50\" y=\"-309\" font-family=\"monospace\" font-size=\"10.00\">AccumulateGrad</text>\n</g>\n<!-- 2425443054544&#45;&gt;2425486855232 -->\n<g id=\"edge4\" class=\"edge\">\n<title>2425443054544&#45;&gt;2425486855232</title>\n<path fill=\"none\" stroke=\"black\" d=\"M50,-301.36C50,-293.26 50,-281.44 50,-271.22\"/>\n<polygon fill=\"black\" stroke=\"black\" points=\"53.5,-271.42 50,-261.42 46.5,-271.42 53.5,-271.42\"/>\n</g>\n<!-- 2425440936704 -->\n<g id=\"node7\" class=\"node\">\n<title>2425440936704</title>\n<polygon fill=\"lightblue\" stroke=\"black\" points=\"77,-397.25 23,-397.25 23,-364.5 77,-364.5 77,-397.25\"/>\n<text text-anchor=\"middle\" x=\"50\" y=\"-371.75\" font-family=\"monospace\" font-size=\"10.00\"> (1)</text>\n</g>\n<!-- 2425440936704&#45;&gt;2425443054544 -->\n<g id=\"edge5\" class=\"edge\">\n<title>2425440936704&#45;&gt;2425443054544</title>\n<path fill=\"none\" stroke=\"black\" d=\"M50,-364.06C50,-355.16 50,-343.93 50,-334.28\"/>\n<polygon fill=\"black\" stroke=\"black\" points=\"53.5,-334.35 50,-324.35 46.5,-334.35 53.5,-334.35\"/>\n</g>\n<!-- 2425466142976 -->\n<g id=\"node8\" class=\"node\">\n<title>2425466142976</title>\n<polygon fill=\"lightgrey\" stroke=\"black\" points=\"212,-259.75 112,-259.75 112,-239 212,-239 212,-259.75\"/>\n<text text-anchor=\"middle\" x=\"162\" y=\"-246.25\" font-family=\"monospace\" font-size=\"10.00\">AccumulateGrad</text>\n</g>\n<!-- 2425466142976&#45;&gt;2425466145904 -->\n<g id=\"edge6\" class=\"edge\">\n<title>2425466142976&#45;&gt;2425466145904</title>\n<path fill=\"none\" stroke=\"black\" d=\"M151.99,-238.59C144.26,-231.03 133.37,-220.39 124.13,-211.35\"/>\n<polygon fill=\"black\" stroke=\"black\" points=\"126.6,-208.87 117.01,-204.39 121.71,-213.88 126.6,-208.87\"/>\n</g>\n<!-- 2425485137216 -->\n<g id=\"node9\" class=\"node\">\n<title>2425485137216</title>\n<polygon fill=\"lightblue\" stroke=\"black\" points=\"189,-328.5 135,-328.5 135,-295.75 189,-295.75 189,-328.5\"/>\n<text text-anchor=\"middle\" x=\"162\" y=\"-303\" font-family=\"monospace\" font-size=\"10.00\"> (1)</text>\n</g>\n<!-- 2425485137216&#45;&gt;2425466142976 -->\n<g id=\"edge7\" class=\"edge\">\n<title>2425485137216&#45;&gt;2425466142976</title>\n<path fill=\"none\" stroke=\"black\" d=\"M162,-295.48C162,-288.1 162,-279.18 162,-271.24\"/>\n<polygon fill=\"black\" stroke=\"black\" points=\"165.5,-271.41 162,-261.41 158.5,-271.41 165.5,-271.41\"/>\n</g>\n</g>\n</svg>\n",
      "text/plain": "<graphviz.graphs.Digraph at 0x234bb6ff910>"
     },
     "execution_count": 327,
     "metadata": {},
     "output_type": "execute_result"
    }
   ],
   "source": [
    "os.environ['PATH'] += os.pathsep + 'C:/Program Files (x86)/Graphviz2.38/bin/'\n",
    "make_dot(loss)"
   ],
   "metadata": {
    "collapsed": false,
    "ExecuteTime": {
     "end_time": "2024-11-10T01:55:45.111436400Z",
     "start_time": "2024-11-10T01:55:44.851746500Z"
    }
   },
   "id": "14c08aba21a25874"
  },
  {
   "cell_type": "code",
   "execution_count": 328,
   "outputs": [],
   "source": [
    "class LinearRegressionTorch(nn.Module):\n",
    "    def __init__(self,input_size,output_size):\n",
    "        super(LinearRegressionTorch,self).__init__()\n",
    "        self.linear = nn.Linear(input_size,output_size)\n",
    "    \n",
    "    def forward(self,x):\n",
    "        out = self.linear(x)\n",
    "        return out\n",
    "    \n",
    "input_dim = 1\n",
    "output_dim = 1\n",
    "\n",
    "model = LinearRegressionTorch(input_dim,output_dim)\n",
    "    "
   ],
   "metadata": {
    "collapsed": false,
    "ExecuteTime": {
     "end_time": "2024-11-10T01:55:45.116030900Z",
     "start_time": "2024-11-10T01:55:45.111436400Z"
    }
   },
   "id": "4bce2557158f93fa"
  },
  {
   "cell_type": "code",
   "execution_count": 329,
   "outputs": [],
   "source": [
    "loss_function = nn.MSELoss()\n",
    "LR = 0.02\n",
    "optimizer = torch.optim.SGD(model.parameters(),lr=LR)\n"
   ],
   "metadata": {
    "collapsed": false,
    "ExecuteTime": {
     "end_time": "2024-11-10T01:55:45.125081Z",
     "start_time": "2024-11-10T01:55:45.114031900Z"
    }
   },
   "id": "d5519abcc9999135"
  },
  {
   "cell_type": "code",
   "execution_count": 330,
   "outputs": [
    {
     "name": "stdout",
     "output_type": "stream",
     "text": [
      "Epoch 0 Loss 21.779308319091797\n",
      "\n",
      "Epoch 100 Loss 8.28596305847168\n",
      "\n",
      "Epoch 200 Loss 6.427253246307373\n",
      "\n",
      "Epoch 300 Loss 5.141523361206055\n",
      "\n",
      "Epoch 400 Loss 4.283118724822998\n",
      "\n",
      "Epoch 500 Loss 3.7342822551727295\n",
      "\n",
      "Epoch 600 Loss 3.398759126663208\n",
      "\n",
      "Epoch 700 Loss 3.2015390396118164\n",
      "\n",
      "Epoch 800 Loss 3.0889892578125\n",
      "\n",
      "Epoch 900 Loss 3.0260162353515625\n"
     ]
    }
   ],
   "source": [
    "\n",
    "losses, Slope, Bias = [],[],[]\n",
    "\n",
    "num_epochs = 1000\n",
    "\n",
    "for i in range(num_epochs):\n",
    "    optimizer.zero_grad()\n",
    "    \n",
    "    y_pred = model(x)\n",
    "    \n",
    "    loss = loss_function(y_pred,y_true)\n",
    "    \n",
    "    loss.backward()\n",
    "    \n",
    "    optimizer.step()\n",
    "    \n",
    "    for name, param in model.named_parameters():\n",
    "        \n",
    "        if param.requires_grad:\n",
    "            if name == 'linear.weight':\n",
    "                Slope.append(param.data.numpy()[0][0])\n",
    "            if name == 'linear.bias':\n",
    "                Bias.append(param.data.numpy()[0])\n",
    "        \n",
    "    losses.append(float(loss.data))\n",
    "    \n",
    "    if i % 100 == 0:\n",
    "        print(f'Epoch {i} Loss {np.sqrt(loss.data)}')\n",
    "        print()\n",
    "    "
   ],
   "metadata": {
    "collapsed": false,
    "ExecuteTime": {
     "end_time": "2024-11-10T01:55:45.246643Z",
     "start_time": "2024-11-10T01:55:45.126071600Z"
    }
   },
   "id": "7d432d33e1ae15d1"
  },
  {
   "cell_type": "code",
   "execution_count": 331,
   "outputs": [
    {
     "data": {
      "text/plain": "<Axes: >"
     },
     "execution_count": 331,
     "metadata": {},
     "output_type": "execute_result"
    },
    {
     "data": {
      "text/plain": "<Figure size 640x480 with 1 Axes>",
      "image/png": "[encoded data removed]"
     },
     "metadata": {},
     "output_type": "display_data"
    }
   ],
   "source": [
    "sns.scatterplot(x =range(num_epochs),y = np.sqrt(losses))"
   ],
   "metadata": {
    "collapsed": false,
    "ExecuteTime": {
     "end_time": "2024-11-10T01:55:45.362316200Z",
     "start_time": "2024-11-10T01:55:45.246643Z"
    }
   },
   "id": "40c92b538026f1ac"
  },
  {
   "cell_type": "code",
   "execution_count": 332,
   "outputs": [
    {
     "data": {
      "text/plain": "<Axes: >"
     },
     "execution_count": 332,
     "metadata": {},
     "output_type": "execute_result"
    },
    {
     "data": {
      "text/plain": "<Figure size 640x480 with 1 Axes>",
      "image/png": "[encoded data removed]"
     },
     "metadata": {},
     "output_type": "display_data"
    }
   ],
   "source": [
    "sns.scatterplot(x =range(num_epochs),y = Bias)"
   ],
   "metadata": {
    "collapsed": false,
    "ExecuteTime": {
     "end_time": "2024-11-10T01:55:45.474082100Z",
     "start_time": "2024-11-10T01:55:45.360316100Z"
    }
   },
   "id": "b0a68a9bf5d1d9cf"
  },
  {
   "cell_type": "code",
   "execution_count": 333,
   "outputs": [
    {
     "data": {
      "text/plain": "<Axes: >"
     },
     "execution_count": 333,
     "metadata": {},
     "output_type": "execute_result"
    },
    {
     "data": {
      "text/plain": "<Figure size 640x480 with 1 Axes>",
      "image/png": "[encoded data removed]"
     },
     "metadata": {},
     "output_type": "display_data"
    }
   ],
   "source": [
    "sns.scatterplot(x =range(num_epochs),y = Slope)"
   ],
   "metadata": {
    "collapsed": false,
    "ExecuteTime": {
     "end_time": "2024-11-10T01:55:45.573292900Z",
     "start_time": "2024-11-10T01:55:45.472083400Z"
    }
   },
   "id": "905a41b2f3bb53ac"
  },
  {
   "cell_type": "code",
   "execution_count": 334,
   "outputs": [
    {
     "data": {
      "text/plain": "<Axes: xlabel='wt', ylabel='mpg'>"
     },
     "execution_count": 334,
     "metadata": {},
     "output_type": "execute_result"
    },
    {
     "data": {
      "text/plain": "<Figure size 640x480 with 1 Axes>",
      "image/png": "[encoded data removed]"
     },
     "metadata": {},
     "output_type": "display_data"
    }
   ],
   "source": [
    "y_pred = model(x).detach().numpy()\n",
    "sns.scatterplot(x = X_list, y = y_list)\n",
    "sns.lineplot(x = X_list, y = y_pred.reshape(-1) , color='red')\n",
    "sns.regplot(x = 'wt', y ='mpg', data=cars)  \n"
   ],
   "metadata": {
    "collapsed": false,
    "ExecuteTime": {
     "end_time": "2024-11-10T01:56:29.456970900Z",
     "start_time": "2024-11-10T01:56:29.266982100Z"
    }
   },
   "id": "fa765c8628591a7e"
  }
 ],
 "metadata": {
  "kernelspec": {
   "display_name": "Python 3",
   "language": "python",
   "name": "python3"
  },
  "language_info": {
   "codemirror_mode": {
    "name": "ipython",
    "version": 2
   },
   "file_extension": ".py",
   "mimetype": "text/x-python",
   "name": "python",
   "nbconvert_exporter": "python",
   "pygments_lexer": "ipython2",
   "version": "2.7.6"
  }
 },
 "nbformat": 4,
 "nbformat_minor": 5
}
